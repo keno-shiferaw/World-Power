{
 "cells": [
  {
   "cell_type": "code",
   "execution_count": 1,
   "id": "ca804fe9",
   "metadata": {},
   "outputs": [],
   "source": [
    "# Import libraries\n",
    "import pandas as pd\n",
    "import numpy as np\n",
    "import os"
   ]
  },
  {
   "cell_type": "code",
   "execution_count": 2,
   "id": "57f0fb38",
   "metadata": {},
   "outputs": [],
   "source": [
    "path = r'C:\\Users\\kshifera\\Desktop\\CF_Course\\Immersion\\Achievement_6\\WorldEnergyConsumptionAnalysis'"
   ]
  },
  {
   "cell_type": "markdown",
   "id": "70b7b78d",
   "metadata": {},
   "source": [
    "### Import dataframe"
   ]
  },
  {
   "cell_type": "code",
   "execution_count": 23,
   "id": "21807ae8",
   "metadata": {},
   "outputs": [],
   "source": [
    "# import dataframe\n",
    "df = pd.read_csv(os.path.join(path,'02 Data', 'Original Data', 'World Energy Consumption.csv'), index_col = False)"
   ]
  },
  {
   "cell_type": "markdown",
   "id": "9b94edd6",
   "metadata": {},
   "source": [
    "### Basic data cleaning"
   ]
  },
  {
   "cell_type": "code",
   "execution_count": 24,
   "id": "1609c213",
   "metadata": {},
   "outputs": [
    {
     "data": {
      "text/plain": [
       "(22012, 130)"
      ]
     },
     "execution_count": 24,
     "metadata": {},
     "output_type": "execute_result"
    }
   ],
   "source": [
    "# check dataframe size\n",
    "df.shape"
   ]
  },
  {
   "cell_type": "code",
   "execution_count": 25,
   "id": "021efecc",
   "metadata": {},
   "outputs": [
    {
     "data": {
      "text/html": [
       "<div>\n",
       "<style scoped>\n",
       "    .dataframe tbody tr th:only-of-type {\n",
       "        vertical-align: middle;\n",
       "    }\n",
       "\n",
       "    .dataframe tbody tr th {\n",
       "        vertical-align: top;\n",
       "    }\n",
       "\n",
       "    .dataframe thead th {\n",
       "        text-align: right;\n",
       "    }\n",
       "</style>\n",
       "<table border=\"1\" class=\"dataframe\">\n",
       "  <thead>\n",
       "    <tr style=\"text-align: right;\">\n",
       "      <th></th>\n",
       "      <th>country</th>\n",
       "      <th>year</th>\n",
       "      <th>iso_code</th>\n",
       "      <th>population</th>\n",
       "      <th>gdp</th>\n",
       "      <th>biofuel_cons_change_pct</th>\n",
       "      <th>biofuel_cons_change_twh</th>\n",
       "      <th>biofuel_cons_per_capita</th>\n",
       "      <th>biofuel_consumption</th>\n",
       "      <th>biofuel_elec_per_capita</th>\n",
       "      <th>...</th>\n",
       "      <th>solar_share_energy</th>\n",
       "      <th>wind_cons_change_pct</th>\n",
       "      <th>wind_cons_change_twh</th>\n",
       "      <th>wind_consumption</th>\n",
       "      <th>wind_elec_per_capita</th>\n",
       "      <th>wind_electricity</th>\n",
       "      <th>wind_energy_per_capita</th>\n",
       "      <th>wind_share_elec</th>\n",
       "      <th>wind_share_energy</th>\n",
       "      <th>Electrification rate</th>\n",
       "    </tr>\n",
       "  </thead>\n",
       "  <tbody>\n",
       "  </tbody>\n",
       "</table>\n",
       "<p>0 rows × 130 columns</p>\n",
       "</div>"
      ],
      "text/plain": [
       "Empty DataFrame\n",
       "Columns: [country, year, iso_code, population, gdp, biofuel_cons_change_pct, biofuel_cons_change_twh, biofuel_cons_per_capita, biofuel_consumption, biofuel_elec_per_capita, biofuel_electricity, biofuel_share_elec, biofuel_share_energy, carbon_intensity_elec, coal_cons_change_pct, coal_cons_change_twh, coal_cons_per_capita, coal_consumption, coal_elec_per_capita, coal_electricity, coal_prod_change_pct, coal_prod_change_twh, coal_prod_per_capita, coal_production, coal_share_elec, coal_share_energy, electricity_demand, electricity_generation, electricity_share_energy, energy_cons_change_pct, energy_cons_change_twh, energy_per_capita, energy_per_gdp, fossil_cons_change_pct, fossil_cons_change_twh, fossil_elec_per_capita, fossil_electricity, fossil_energy_per_capita, fossil_fuel_consumption, fossil_share_elec, fossil_share_energy, gas_cons_change_pct, gas_cons_change_twh, gas_consumption, gas_elec_per_capita, gas_electricity, gas_energy_per_capita, gas_prod_change_pct, gas_prod_change_twh, gas_prod_per_capita, gas_production, gas_share_elec, gas_share_energy, greenhouse_gas_emissions, hydro_cons_change_pct, hydro_cons_change_twh, hydro_consumption, hydro_elec_per_capita, hydro_electricity, hydro_energy_per_capita, hydro_share_elec, hydro_share_energy, low_carbon_cons_change_pct, low_carbon_cons_change_twh, low_carbon_consumption, low_carbon_elec_per_capita, low_carbon_electricity, low_carbon_energy_per_capita, low_carbon_share_elec, low_carbon_share_energy, net_elec_imports, net_elec_imports_share_demand, nuclear_cons_change_pct, nuclear_cons_change_twh, nuclear_consumption, nuclear_elec_per_capita, nuclear_electricity, nuclear_energy_per_capita, nuclear_share_elec, nuclear_share_energy, oil_cons_change_pct, oil_cons_change_twh, oil_consumption, oil_elec_per_capita, oil_electricity, oil_energy_per_capita, oil_prod_change_pct, oil_prod_change_twh, oil_prod_per_capita, oil_production, oil_share_elec, oil_share_energy, other_renewable_consumption, other_renewable_electricity, other_renewable_exc_biofuel_electricity, other_renewables_cons_change_pct, other_renewables_cons_change_twh, other_renewables_elec_per_capita, other_renewables_elec_per_capita_exc_biofuel, other_renewables_energy_per_capita, ...]\n",
       "Index: []\n",
       "\n",
       "[0 rows x 130 columns]"
      ]
     },
     "execution_count": 25,
     "metadata": {},
     "output_type": "execute_result"
    }
   ],
   "source": [
    "# check for duplicates\n",
    "df[df.duplicated()]"
   ]
  },
  {
   "cell_type": "code",
   "execution_count": 26,
   "id": "e8cb0054",
   "metadata": {},
   "outputs": [
    {
     "data": {
      "text/html": [
       "<div>\n",
       "<style scoped>\n",
       "    .dataframe tbody tr th:only-of-type {\n",
       "        vertical-align: middle;\n",
       "    }\n",
       "\n",
       "    .dataframe tbody tr th {\n",
       "        vertical-align: top;\n",
       "    }\n",
       "\n",
       "    .dataframe thead th {\n",
       "        text-align: right;\n",
       "    }\n",
       "</style>\n",
       "<table border=\"1\" class=\"dataframe\">\n",
       "  <thead>\n",
       "    <tr style=\"text-align: right;\">\n",
       "      <th></th>\n",
       "      <th>country</th>\n",
       "      <th>year</th>\n",
       "      <th>iso_code</th>\n",
       "      <th>population</th>\n",
       "      <th>gdp</th>\n",
       "      <th>biofuel_cons_change_pct</th>\n",
       "      <th>biofuel_cons_change_twh</th>\n",
       "      <th>biofuel_cons_per_capita</th>\n",
       "      <th>biofuel_consumption</th>\n",
       "      <th>biofuel_elec_per_capita</th>\n",
       "      <th>...</th>\n",
       "      <th>solar_share_energy</th>\n",
       "      <th>wind_cons_change_pct</th>\n",
       "      <th>wind_cons_change_twh</th>\n",
       "      <th>wind_consumption</th>\n",
       "      <th>wind_elec_per_capita</th>\n",
       "      <th>wind_electricity</th>\n",
       "      <th>wind_energy_per_capita</th>\n",
       "      <th>wind_share_elec</th>\n",
       "      <th>wind_share_energy</th>\n",
       "      <th>Electrification rate</th>\n",
       "    </tr>\n",
       "  </thead>\n",
       "  <tbody>\n",
       "    <tr>\n",
       "      <th>0</th>\n",
       "      <td>ASEAN (Ember)</td>\n",
       "      <td>2000</td>\n",
       "      <td>NaN</td>\n",
       "      <td>NaN</td>\n",
       "      <td>NaN</td>\n",
       "      <td>NaN</td>\n",
       "      <td>NaN</td>\n",
       "      <td>NaN</td>\n",
       "      <td>NaN</td>\n",
       "      <td>NaN</td>\n",
       "      <td>...</td>\n",
       "      <td>NaN</td>\n",
       "      <td>NaN</td>\n",
       "      <td>NaN</td>\n",
       "      <td>NaN</td>\n",
       "      <td>NaN</td>\n",
       "      <td>0.0</td>\n",
       "      <td>NaN</td>\n",
       "      <td>0.0</td>\n",
       "      <td>NaN</td>\n",
       "      <td>NaN</td>\n",
       "    </tr>\n",
       "    <tr>\n",
       "      <th>1</th>\n",
       "      <td>ASEAN (Ember)</td>\n",
       "      <td>2001</td>\n",
       "      <td>NaN</td>\n",
       "      <td>NaN</td>\n",
       "      <td>NaN</td>\n",
       "      <td>NaN</td>\n",
       "      <td>NaN</td>\n",
       "      <td>NaN</td>\n",
       "      <td>NaN</td>\n",
       "      <td>NaN</td>\n",
       "      <td>...</td>\n",
       "      <td>NaN</td>\n",
       "      <td>NaN</td>\n",
       "      <td>NaN</td>\n",
       "      <td>NaN</td>\n",
       "      <td>NaN</td>\n",
       "      <td>0.0</td>\n",
       "      <td>NaN</td>\n",
       "      <td>0.0</td>\n",
       "      <td>NaN</td>\n",
       "      <td>NaN</td>\n",
       "    </tr>\n",
       "    <tr>\n",
       "      <th>2</th>\n",
       "      <td>ASEAN (Ember)</td>\n",
       "      <td>2002</td>\n",
       "      <td>NaN</td>\n",
       "      <td>NaN</td>\n",
       "      <td>NaN</td>\n",
       "      <td>NaN</td>\n",
       "      <td>NaN</td>\n",
       "      <td>NaN</td>\n",
       "      <td>NaN</td>\n",
       "      <td>NaN</td>\n",
       "      <td>...</td>\n",
       "      <td>NaN</td>\n",
       "      <td>NaN</td>\n",
       "      <td>NaN</td>\n",
       "      <td>NaN</td>\n",
       "      <td>NaN</td>\n",
       "      <td>0.0</td>\n",
       "      <td>NaN</td>\n",
       "      <td>0.0</td>\n",
       "      <td>NaN</td>\n",
       "      <td>NaN</td>\n",
       "    </tr>\n",
       "    <tr>\n",
       "      <th>3</th>\n",
       "      <td>ASEAN (Ember)</td>\n",
       "      <td>2003</td>\n",
       "      <td>NaN</td>\n",
       "      <td>NaN</td>\n",
       "      <td>NaN</td>\n",
       "      <td>NaN</td>\n",
       "      <td>NaN</td>\n",
       "      <td>NaN</td>\n",
       "      <td>NaN</td>\n",
       "      <td>NaN</td>\n",
       "      <td>...</td>\n",
       "      <td>NaN</td>\n",
       "      <td>NaN</td>\n",
       "      <td>NaN</td>\n",
       "      <td>NaN</td>\n",
       "      <td>NaN</td>\n",
       "      <td>0.0</td>\n",
       "      <td>NaN</td>\n",
       "      <td>0.0</td>\n",
       "      <td>NaN</td>\n",
       "      <td>NaN</td>\n",
       "    </tr>\n",
       "    <tr>\n",
       "      <th>4</th>\n",
       "      <td>ASEAN (Ember)</td>\n",
       "      <td>2004</td>\n",
       "      <td>NaN</td>\n",
       "      <td>NaN</td>\n",
       "      <td>NaN</td>\n",
       "      <td>NaN</td>\n",
       "      <td>NaN</td>\n",
       "      <td>NaN</td>\n",
       "      <td>NaN</td>\n",
       "      <td>NaN</td>\n",
       "      <td>...</td>\n",
       "      <td>NaN</td>\n",
       "      <td>NaN</td>\n",
       "      <td>NaN</td>\n",
       "      <td>NaN</td>\n",
       "      <td>NaN</td>\n",
       "      <td>0.0</td>\n",
       "      <td>NaN</td>\n",
       "      <td>0.0</td>\n",
       "      <td>NaN</td>\n",
       "      <td>NaN</td>\n",
       "    </tr>\n",
       "  </tbody>\n",
       "</table>\n",
       "<p>5 rows × 130 columns</p>\n",
       "</div>"
      ],
      "text/plain": [
       "         country  year iso_code  population  gdp  biofuel_cons_change_pct  \\\n",
       "0  ASEAN (Ember)  2000      NaN         NaN  NaN                      NaN   \n",
       "1  ASEAN (Ember)  2001      NaN         NaN  NaN                      NaN   \n",
       "2  ASEAN (Ember)  2002      NaN         NaN  NaN                      NaN   \n",
       "3  ASEAN (Ember)  2003      NaN         NaN  NaN                      NaN   \n",
       "4  ASEAN (Ember)  2004      NaN         NaN  NaN                      NaN   \n",
       "\n",
       "   biofuel_cons_change_twh  biofuel_cons_per_capita  biofuel_consumption  \\\n",
       "0                      NaN                      NaN                  NaN   \n",
       "1                      NaN                      NaN                  NaN   \n",
       "2                      NaN                      NaN                  NaN   \n",
       "3                      NaN                      NaN                  NaN   \n",
       "4                      NaN                      NaN                  NaN   \n",
       "\n",
       "   biofuel_elec_per_capita  ...  solar_share_energy  wind_cons_change_pct  \\\n",
       "0                      NaN  ...                 NaN                   NaN   \n",
       "1                      NaN  ...                 NaN                   NaN   \n",
       "2                      NaN  ...                 NaN                   NaN   \n",
       "3                      NaN  ...                 NaN                   NaN   \n",
       "4                      NaN  ...                 NaN                   NaN   \n",
       "\n",
       "   wind_cons_change_twh  wind_consumption  wind_elec_per_capita  \\\n",
       "0                   NaN               NaN                   NaN   \n",
       "1                   NaN               NaN                   NaN   \n",
       "2                   NaN               NaN                   NaN   \n",
       "3                   NaN               NaN                   NaN   \n",
       "4                   NaN               NaN                   NaN   \n",
       "\n",
       "   wind_electricity  wind_energy_per_capita  wind_share_elec  \\\n",
       "0               0.0                     NaN              0.0   \n",
       "1               0.0                     NaN              0.0   \n",
       "2               0.0                     NaN              0.0   \n",
       "3               0.0                     NaN              0.0   \n",
       "4               0.0                     NaN              0.0   \n",
       "\n",
       "   wind_share_energy  Electrification rate  \n",
       "0                NaN                   NaN  \n",
       "1                NaN                   NaN  \n",
       "2                NaN                   NaN  \n",
       "3                NaN                   NaN  \n",
       "4                NaN                   NaN  \n",
       "\n",
       "[5 rows x 130 columns]"
      ]
     },
     "execution_count": 26,
     "metadata": {},
     "output_type": "execute_result"
    }
   ],
   "source": [
    "df.head()"
   ]
  },
  {
   "cell_type": "code",
   "execution_count": 27,
   "id": "b221c373",
   "metadata": {},
   "outputs": [],
   "source": [
    "# drop rows with older data and latest data (before year 2000 and later than 2018)\n",
    "df = df.drop(df[(df.year < 2000) | (df.year > 2018)].index)"
   ]
  },
  {
   "cell_type": "code",
   "execution_count": 28,
   "id": "49aa0e03",
   "metadata": {},
   "outputs": [
    {
     "data": {
      "text/plain": [
       "(5658, 130)"
      ]
     },
     "execution_count": 28,
     "metadata": {},
     "output_type": "execute_result"
    }
   ],
   "source": [
    "#check\n",
    "df.shape"
   ]
  },
  {
   "cell_type": "code",
   "execution_count": 29,
   "id": "6b6f047c",
   "metadata": {},
   "outputs": [],
   "source": [
    "# drop rows with empty values in gdp column \n",
    "df.dropna(subset = ['gdp'], inplace = True)"
   ]
  },
  {
   "cell_type": "code",
   "execution_count": 30,
   "id": "3b0ba6b9",
   "metadata": {},
   "outputs": [
    {
     "data": {
      "text/plain": [
       "(3154, 130)"
      ]
     },
     "execution_count": 30,
     "metadata": {},
     "output_type": "execute_result"
    }
   ],
   "source": [
    "df.shape"
   ]
  },
  {
   "cell_type": "code",
   "execution_count": 31,
   "id": "fef36298",
   "metadata": {},
   "outputs": [],
   "source": [
    "# drop region names from the country column\n",
    "df = df[df['country'].isin(['ASEAN (Ember)' , 'Africa' , 'Africa (EI)', 'Africa (EIA)', 'Africa (Ember)', 'Africa (Shift)', 'American Samoa', 'Antarctica', 'Asia','Asia & Oceania (EIA)','Asia (Ember)', 'Asia Pacific (EI)', 'Asia and Oceania (Shift)' , 'Australia and New Zealand (EIA)', 'CIS (EI)', 'Central & South America (EIA)' , 'Central America (EI)', 'Central and South America (Shift)','Czechoslovakia', 'EU28 (Shift)','East Germany (EIA)', 'East Germany', 'Eastern Africa (EI)', 'Eurasia (EIA)', 'Eurasia (Shift)', 'Europe','Europe (EI)','Europe (Ember)', 'Europe (Shift)', 'European Union (27)', 'European Union (EIA)', 'G20 (Ember)', 'G7 (Ember)','Hawaiian Trade Zone (EIA)','High-income countries', 'IEO - Africa (EIA)', 'IEO - Middle East (EIA)','IEO OECD - Europe (EIA)','Latin America and Caribbean (Ember)', 'Low-income countries','Lower-middle-income countries','Mexico, Chile, and other OECD Americas (EIA)' , 'Middle Africa (EI)' , 'Middle East (EI)' , 'Middle East (EIA)' ,'Middle East (Ember)' , 'Middle East (Shift)', 'Non-OECD (EI)','Non-OECD (EIA)','Non-OPEC (EI)', 'Non-OPEC (EIA)','North America','North America (EI)', 'North America (Ember)','North America (Shift)','OECD (EI)', 'OECD (EIA)','OECD (Ember)','OECD (Shift)','OECD - Asia And Oceania (EIA)','OECD - Europe (EIA)','OECD - North America (EIA)', 'OPEC (EI)','OPEC (Shift)', 'OPEC - Africa (EIA)','OPEC - South America (EIA)', 'Oceania','Oceania (Ember)', 'Other Non-OECD - America (EIA)', 'Other Non-OECD - Asia (EIA)', 'Other Non-OECD - Europe and Eurasia (EIA)','Persian Gulf (EIA)', 'Persian Gulf (Shift)', 'South Korea and other OECD Asia (EIA)','South and Central America (EI)', 'U.S. Pacific Islands (EIA)', 'U.S. Territories (EIA)', 'USSR', 'United States Pacific Islands (Shift)','United States Territories (Shift)', 'United States Virgin Islands','Upper-middle-income countries','Wake Island (EIA)', 'Wake Island (Shift)','West Germany (EIA)', 'Western Africa (EI)','Yugoslavia', 'World']) == False]"
   ]
  },
  {
   "cell_type": "code",
   "execution_count": 32,
   "id": "1b4c421e",
   "metadata": {},
   "outputs": [
    {
     "data": {
      "text/plain": [
       "(3130, 130)"
      ]
     },
     "execution_count": 32,
     "metadata": {},
     "output_type": "execute_result"
    }
   ],
   "source": [
    "df.shape"
   ]
  },
  {
   "cell_type": "markdown",
   "id": "3177a855",
   "metadata": {},
   "source": [
    "### Additional columns"
   ]
  },
  {
   "cell_type": "code",
   "execution_count": 33,
   "id": "997097c3",
   "metadata": {},
   "outputs": [],
   "source": [
    "# Column to check if there are fossil-fueled power plants\n",
    "df.loc[df['fossil_electricity'] > 0, 'fossils?'] = 'yes'\n"
   ]
  },
  {
   "cell_type": "code",
   "execution_count": 34,
   "id": "a6694207",
   "metadata": {},
   "outputs": [],
   "source": [
    "# Column to check if there are no fossil-fueled power plants\n",
    "df.loc[df['fossil_electricity'] == 0, 'fossils?'] = 'no'"
   ]
  },
  {
   "cell_type": "code",
   "execution_count": 35,
   "id": "71fb5992",
   "metadata": {},
   "outputs": [
    {
     "data": {
      "text/plain": [
       "(3130, 131)"
      ]
     },
     "execution_count": 35,
     "metadata": {},
     "output_type": "execute_result"
    }
   ],
   "source": [
    "df.shape"
   ]
  },
  {
   "cell_type": "code",
   "execution_count": 36,
   "id": "a2ce7134",
   "metadata": {},
   "outputs": [],
   "source": [
    "# Column to check if there are renewables-based power plants\n",
    "df.loc[df['renewables_electricity'] > 0, 'renewables?'] = 'yes'"
   ]
  },
  {
   "cell_type": "code",
   "execution_count": 37,
   "id": "81235f68",
   "metadata": {},
   "outputs": [],
   "source": [
    "# Column to check if there are norenewables-based power plants\n",
    "df.loc[df['renewables_electricity'] == 0, 'renewables?'] = 'no'"
   ]
  },
  {
   "cell_type": "code",
   "execution_count": 38,
   "id": "016e004f",
   "metadata": {},
   "outputs": [
    {
     "data": {
      "text/plain": [
       "(3130, 132)"
      ]
     },
     "execution_count": 38,
     "metadata": {},
     "output_type": "execute_result"
    }
   ],
   "source": [
    "df.shape"
   ]
  },
  {
   "cell_type": "code",
   "execution_count": 39,
   "id": "0293eacd",
   "metadata": {},
   "outputs": [],
   "source": [
    "# Column to check if there are nuclear-powered power plants\n",
    "df.loc[df['nuclear_electricity'] > 0, 'nuclear?'] = 'yes'"
   ]
  },
  {
   "cell_type": "code",
   "execution_count": 40,
   "id": "9e41f13e",
   "metadata": {},
   "outputs": [],
   "source": [
    "# Column to check if there are norenewables-based power plants\n",
    "df.loc[df['nuclear_electricity'] == 0, 'nuclear?'] = 'no'"
   ]
  },
  {
   "cell_type": "code",
   "execution_count": 41,
   "id": "66f65b34",
   "metadata": {},
   "outputs": [
    {
     "data": {
      "text/plain": [
       "(3130, 133)"
      ]
     },
     "execution_count": 41,
     "metadata": {},
     "output_type": "execute_result"
    }
   ],
   "source": [
    "df.shape"
   ]
  },
  {
   "cell_type": "code",
   "execution_count": 51,
   "id": "05e59d29",
   "metadata": {},
   "outputs": [],
   "source": [
    "# Column to calculate gdp per capita\n",
    "df['gdp_per_capita'] = df['gdp'] / df['population']"
   ]
  },
  {
   "cell_type": "code",
   "execution_count": 42,
   "id": "fad72536",
   "metadata": {},
   "outputs": [],
   "source": [
    "# Empty list to store the results of for loop\n",
    "depot = []\n",
    "for x in df['country']:\n",
    "    if x in ['Algeria','Angola','Benin','Botswana', 'Burkina Faso', 'Burundi' , 'Cameroon', 'Cape Verde', 'Chad', 'Comoros', 'Congo', 'Cote d''Ivoire', 'Democratic Republic of Congo', 'Djibouti', 'Egypt', 'Equatorial Guinea', 'Eswatini', 'Ethiopia', 'Gabon', 'Gambia', 'Ghana', 'Guinea', 'Guinea-Bissau', 'Kenya', 'Lesotho', 'Liberia', 'Libya', 'Madagascar', 'Malawi', 'Mali', 'Mauritania', 'Mauritius', 'Morocco', 'Mozambique', 'Namibia', 'Niger', 'Nigeria', 'Rwanda', 'Sao Tome and Principe', 'Senegal', 'Seychelles', 'Sierra Leone', 'South Africa', 'Tanzania', 'Togo', 'Tunisia', 'Uganda', 'Zambia', 'Zimbabwe']:\n",
    "        depot.append(\"Africa\")\n",
    "    elif x in ['Afghanistan', 'Armenia', 'Azerbaijan', 'Bahrain', 'Bangladesh', 'Belarus', 'Cambodia', 'China', 'Hong Kong', 'India', 'Indonesia', 'Iran', 'Iraq', 'Israel', 'Japan', 'Jordan', 'Kazakhstan', 'Kuwait', 'Kyrgyzstan', 'Laos', 'Lebanon', 'Malaysia', 'Mongolia', 'Myanmar', 'Nepal', 'North Korea', 'Oman', 'Pakistan', 'Palestine', 'Philippines', 'Qatar', 'Russia', 'Saudi Arabia', 'Singapore', 'South Korea', 'Sri Lanka', 'Syria', 'Taiwan', 'Tajikistan', 'Thailand', 'Turkey', 'Turkmenistan', 'United Arab Emirates', 'Uzbekistan', 'Vietnam', 'Yemen']:\n",
    "        depot.append(\"Asia\")\n",
    "    elif x in ['Australia', 'New Zealand']:\n",
    "        depot.append(\"Australia\")\n",
    "    elif x in ['Albania', 'Austria', 'Belgium', 'Bosnia and Herzegovina', 'Bulgaria', 'Croatia', 'Cyprus', 'Czechia', 'Denmark', 'Estonia', 'Finland', 'France', 'Georgia', 'Germany', 'Greece', 'Hungary', 'Iceland', 'Ireland', 'Italy', 'Latvia', 'Lithuania', 'Luxembourg', 'Malta', 'Moldova', 'Montenegro', 'Netherlands', 'North Macedonia', 'Norway', 'Poland', 'Portugal', 'Romania', 'Serbia', 'Slovakia', 'Slovenia', 'Spain', 'Sweden', 'Switzerland', 'Ukraine', 'United Kingdom']:\n",
    "        depot.append(\"Europe\")\n",
    "    elif x in ['Barbados', 'Canada', 'Dominica', 'Dominican Republic', 'El Salvador', 'Guatemala', 'Haiti', 'Honduras', 'Jamaica', 'Nicaragua', 'Panama', 'Puerto Rico', 'Saint Lucia', 'United States']:\n",
    "        depot.append(\"North America\")\n",
    "    else:\n",
    "        depot.append(\"South America\")"
   ]
  },
  {
   "cell_type": "code",
   "execution_count": 43,
   "id": "1587d832",
   "metadata": {},
   "outputs": [],
   "source": [
    "# Continent created\n",
    "df['continent'] = depot"
   ]
  },
  {
   "cell_type": "code",
   "execution_count": 44,
   "id": "e2c3c779",
   "metadata": {},
   "outputs": [
    {
     "data": {
      "text/plain": [
       "(3130, 134)"
      ]
     },
     "execution_count": 44,
     "metadata": {},
     "output_type": "execute_result"
    }
   ],
   "source": [
    "df.shape"
   ]
  },
  {
   "cell_type": "code",
   "execution_count": 47,
   "id": "17954cdd",
   "metadata": {},
   "outputs": [],
   "source": [
    "# Rename column\n",
    "df.rename(columns = {'Electrification rate': 'electrification_rate'}, inplace = True)"
   ]
  },
  {
   "cell_type": "code",
   "execution_count": 48,
   "id": "df8c7eec",
   "metadata": {},
   "outputs": [
    {
     "data": {
      "text/html": [
       "<div>\n",
       "<style scoped>\n",
       "    .dataframe tbody tr th:only-of-type {\n",
       "        vertical-align: middle;\n",
       "    }\n",
       "\n",
       "    .dataframe tbody tr th {\n",
       "        vertical-align: top;\n",
       "    }\n",
       "\n",
       "    .dataframe thead th {\n",
       "        text-align: right;\n",
       "    }\n",
       "</style>\n",
       "<table border=\"1\" class=\"dataframe\">\n",
       "  <thead>\n",
       "    <tr style=\"text-align: right;\">\n",
       "      <th></th>\n",
       "      <th>country</th>\n",
       "      <th>year</th>\n",
       "      <th>iso_code</th>\n",
       "      <th>population</th>\n",
       "      <th>gdp</th>\n",
       "      <th>biofuel_cons_change_pct</th>\n",
       "      <th>biofuel_cons_change_twh</th>\n",
       "      <th>biofuel_cons_per_capita</th>\n",
       "      <th>biofuel_consumption</th>\n",
       "      <th>biofuel_elec_per_capita</th>\n",
       "      <th>...</th>\n",
       "      <th>wind_elec_per_capita</th>\n",
       "      <th>wind_electricity</th>\n",
       "      <th>wind_energy_per_capita</th>\n",
       "      <th>wind_share_elec</th>\n",
       "      <th>wind_share_energy</th>\n",
       "      <th>electrification_rate</th>\n",
       "      <th>fossils?</th>\n",
       "      <th>renewables?</th>\n",
       "      <th>nuclear?</th>\n",
       "      <th>continent</th>\n",
       "    </tr>\n",
       "  </thead>\n",
       "  <tbody>\n",
       "    <tr>\n",
       "      <th>123</th>\n",
       "      <td>Afghanistan</td>\n",
       "      <td>2000</td>\n",
       "      <td>AFG</td>\n",
       "      <td>19542986.0</td>\n",
       "      <td>1.128379e+10</td>\n",
       "      <td>NaN</td>\n",
       "      <td>NaN</td>\n",
       "      <td>NaN</td>\n",
       "      <td>NaN</td>\n",
       "      <td>0.0</td>\n",
       "      <td>...</td>\n",
       "      <td>0.0</td>\n",
       "      <td>0.0</td>\n",
       "      <td>NaN</td>\n",
       "      <td>0.0</td>\n",
       "      <td>NaN</td>\n",
       "      <td>4.45</td>\n",
       "      <td>yes</td>\n",
       "      <td>yes</td>\n",
       "      <td>no</td>\n",
       "      <td>Asia</td>\n",
       "    </tr>\n",
       "    <tr>\n",
       "      <th>124</th>\n",
       "      <td>Afghanistan</td>\n",
       "      <td>2001</td>\n",
       "      <td>AFG</td>\n",
       "      <td>19688634.0</td>\n",
       "      <td>1.102127e+10</td>\n",
       "      <td>NaN</td>\n",
       "      <td>NaN</td>\n",
       "      <td>NaN</td>\n",
       "      <td>NaN</td>\n",
       "      <td>0.0</td>\n",
       "      <td>...</td>\n",
       "      <td>0.0</td>\n",
       "      <td>0.0</td>\n",
       "      <td>NaN</td>\n",
       "      <td>0.0</td>\n",
       "      <td>NaN</td>\n",
       "      <td>9.29</td>\n",
       "      <td>yes</td>\n",
       "      <td>yes</td>\n",
       "      <td>no</td>\n",
       "      <td>Asia</td>\n",
       "    </tr>\n",
       "    <tr>\n",
       "      <th>125</th>\n",
       "      <td>Afghanistan</td>\n",
       "      <td>2002</td>\n",
       "      <td>AFG</td>\n",
       "      <td>21000258.0</td>\n",
       "      <td>1.880487e+10</td>\n",
       "      <td>NaN</td>\n",
       "      <td>NaN</td>\n",
       "      <td>NaN</td>\n",
       "      <td>NaN</td>\n",
       "      <td>0.0</td>\n",
       "      <td>...</td>\n",
       "      <td>0.0</td>\n",
       "      <td>0.0</td>\n",
       "      <td>NaN</td>\n",
       "      <td>0.0</td>\n",
       "      <td>NaN</td>\n",
       "      <td>14.13</td>\n",
       "      <td>yes</td>\n",
       "      <td>yes</td>\n",
       "      <td>no</td>\n",
       "      <td>Asia</td>\n",
       "    </tr>\n",
       "    <tr>\n",
       "      <th>126</th>\n",
       "      <td>Afghanistan</td>\n",
       "      <td>2003</td>\n",
       "      <td>AFG</td>\n",
       "      <td>22645136.0</td>\n",
       "      <td>2.107434e+10</td>\n",
       "      <td>NaN</td>\n",
       "      <td>NaN</td>\n",
       "      <td>NaN</td>\n",
       "      <td>NaN</td>\n",
       "      <td>0.0</td>\n",
       "      <td>...</td>\n",
       "      <td>0.0</td>\n",
       "      <td>0.0</td>\n",
       "      <td>NaN</td>\n",
       "      <td>0.0</td>\n",
       "      <td>NaN</td>\n",
       "      <td>18.97</td>\n",
       "      <td>yes</td>\n",
       "      <td>yes</td>\n",
       "      <td>no</td>\n",
       "      <td>Asia</td>\n",
       "    </tr>\n",
       "    <tr>\n",
       "      <th>127</th>\n",
       "      <td>Afghanistan</td>\n",
       "      <td>2004</td>\n",
       "      <td>AFG</td>\n",
       "      <td>23553554.0</td>\n",
       "      <td>2.233257e+10</td>\n",
       "      <td>NaN</td>\n",
       "      <td>NaN</td>\n",
       "      <td>NaN</td>\n",
       "      <td>NaN</td>\n",
       "      <td>0.0</td>\n",
       "      <td>...</td>\n",
       "      <td>0.0</td>\n",
       "      <td>0.0</td>\n",
       "      <td>NaN</td>\n",
       "      <td>0.0</td>\n",
       "      <td>NaN</td>\n",
       "      <td>23.81</td>\n",
       "      <td>yes</td>\n",
       "      <td>yes</td>\n",
       "      <td>no</td>\n",
       "      <td>Asia</td>\n",
       "    </tr>\n",
       "  </tbody>\n",
       "</table>\n",
       "<p>5 rows × 134 columns</p>\n",
       "</div>"
      ],
      "text/plain": [
       "         country  year iso_code  population           gdp  \\\n",
       "123  Afghanistan  2000      AFG  19542986.0  1.128379e+10   \n",
       "124  Afghanistan  2001      AFG  19688634.0  1.102127e+10   \n",
       "125  Afghanistan  2002      AFG  21000258.0  1.880487e+10   \n",
       "126  Afghanistan  2003      AFG  22645136.0  2.107434e+10   \n",
       "127  Afghanistan  2004      AFG  23553554.0  2.233257e+10   \n",
       "\n",
       "     biofuel_cons_change_pct  biofuel_cons_change_twh  \\\n",
       "123                      NaN                      NaN   \n",
       "124                      NaN                      NaN   \n",
       "125                      NaN                      NaN   \n",
       "126                      NaN                      NaN   \n",
       "127                      NaN                      NaN   \n",
       "\n",
       "     biofuel_cons_per_capita  biofuel_consumption  biofuel_elec_per_capita  \\\n",
       "123                      NaN                  NaN                      0.0   \n",
       "124                      NaN                  NaN                      0.0   \n",
       "125                      NaN                  NaN                      0.0   \n",
       "126                      NaN                  NaN                      0.0   \n",
       "127                      NaN                  NaN                      0.0   \n",
       "\n",
       "     ...  wind_elec_per_capita  wind_electricity  wind_energy_per_capita  \\\n",
       "123  ...                   0.0               0.0                     NaN   \n",
       "124  ...                   0.0               0.0                     NaN   \n",
       "125  ...                   0.0               0.0                     NaN   \n",
       "126  ...                   0.0               0.0                     NaN   \n",
       "127  ...                   0.0               0.0                     NaN   \n",
       "\n",
       "     wind_share_elec  wind_share_energy  electrification_rate  fossils?  \\\n",
       "123              0.0                NaN                  4.45       yes   \n",
       "124              0.0                NaN                  9.29       yes   \n",
       "125              0.0                NaN                 14.13       yes   \n",
       "126              0.0                NaN                 18.97       yes   \n",
       "127              0.0                NaN                 23.81       yes   \n",
       "\n",
       "     renewables?  nuclear?  continent  \n",
       "123          yes        no       Asia  \n",
       "124          yes        no       Asia  \n",
       "125          yes        no       Asia  \n",
       "126          yes        no       Asia  \n",
       "127          yes        no       Asia  \n",
       "\n",
       "[5 rows x 134 columns]"
      ]
     },
     "execution_count": 48,
     "metadata": {},
     "output_type": "execute_result"
    }
   ],
   "source": [
    "df.head()"
   ]
  },
  {
   "cell_type": "markdown",
   "id": "0f6c1225",
   "metadata": {},
   "source": [
    "### Basic statistics "
   ]
  },
  {
   "cell_type": "code",
   "execution_count": 49,
   "id": "d049dfc6",
   "metadata": {
    "scrolled": true
   },
   "outputs": [
    {
     "data": {
      "text/html": [
       "<div>\n",
       "<style scoped>\n",
       "    .dataframe tbody tr th:only-of-type {\n",
       "        vertical-align: middle;\n",
       "    }\n",
       "\n",
       "    .dataframe tbody tr th {\n",
       "        vertical-align: top;\n",
       "    }\n",
       "\n",
       "    .dataframe thead tr th {\n",
       "        text-align: left;\n",
       "    }\n",
       "\n",
       "    .dataframe thead tr:last-of-type th {\n",
       "        text-align: right;\n",
       "    }\n",
       "</style>\n",
       "<table border=\"1\" class=\"dataframe\">\n",
       "  <thead>\n",
       "    <tr>\n",
       "      <th></th>\n",
       "      <th colspan=\"3\" halign=\"left\">gdp</th>\n",
       "    </tr>\n",
       "    <tr>\n",
       "      <th></th>\n",
       "      <th>min</th>\n",
       "      <th>mean</th>\n",
       "      <th>max</th>\n",
       "    </tr>\n",
       "    <tr>\n",
       "      <th>continent</th>\n",
       "      <th></th>\n",
       "      <th></th>\n",
       "      <th></th>\n",
       "    </tr>\n",
       "  </thead>\n",
       "  <tbody>\n",
       "    <tr>\n",
       "      <th>Africa</th>\n",
       "      <td>3.128536e+08</td>\n",
       "      <td>8.274153e+10</td>\n",
       "      <td>1.221830e+12</td>\n",
       "    </tr>\n",
       "    <tr>\n",
       "      <th>Asia</th>\n",
       "      <td>7.225651e+09</td>\n",
       "      <td>8.634617e+11</td>\n",
       "      <td>1.815160e+13</td>\n",
       "    </tr>\n",
       "    <tr>\n",
       "      <th>Australia</th>\n",
       "      <td>1.019810e+11</td>\n",
       "      <td>5.495012e+11</td>\n",
       "      <td>1.238560e+12</td>\n",
       "    </tr>\n",
       "    <tr>\n",
       "      <th>Europe</th>\n",
       "      <td>5.587146e+09</td>\n",
       "      <td>4.578657e+11</td>\n",
       "      <td>3.885960e+12</td>\n",
       "    </tr>\n",
       "    <tr>\n",
       "      <th>North America</th>\n",
       "      <td>4.044838e+08</td>\n",
       "      <td>1.233356e+12</td>\n",
       "      <td>1.814060e+13</td>\n",
       "    </tr>\n",
       "    <tr>\n",
       "      <th>South America</th>\n",
       "      <td>2.929689e+09</td>\n",
       "      <td>4.299466e+11</td>\n",
       "      <td>3.270710e+12</td>\n",
       "    </tr>\n",
       "  </tbody>\n",
       "</table>\n",
       "</div>"
      ],
      "text/plain": [
       "                        gdp                            \n",
       "                        min          mean           max\n",
       "continent                                              \n",
       "Africa         3.128536e+08  8.274153e+10  1.221830e+12\n",
       "Asia           7.225651e+09  8.634617e+11  1.815160e+13\n",
       "Australia      1.019810e+11  5.495012e+11  1.238560e+12\n",
       "Europe         5.587146e+09  4.578657e+11  3.885960e+12\n",
       "North America  4.044838e+08  1.233356e+12  1.814060e+13\n",
       "South America  2.929689e+09  4.299466e+11  3.270710e+12"
      ]
     },
     "execution_count": 49,
     "metadata": {},
     "output_type": "execute_result"
    }
   ],
   "source": [
    "# gdp column\n",
    "df.groupby('continent').agg({'gdp': ['min', 'mean','max']}).head(15)"
   ]
  },
  {
   "cell_type": "code",
   "execution_count": 52,
   "id": "6f8caf2e",
   "metadata": {},
   "outputs": [],
   "source": [
    "# Export as csv\n",
    "df.to_csv(os.path.join(path, '02 Data', 'Prepared Data', 'cleaned_601.csv'))"
   ]
  },
  {
   "cell_type": "code",
   "execution_count": null,
   "id": "0b075541",
   "metadata": {},
   "outputs": [],
   "source": []
  }
 ],
 "metadata": {
  "kernelspec": {
   "display_name": "Python 3 (ipykernel)",
   "language": "python",
   "name": "python3"
  },
  "language_info": {
   "codemirror_mode": {
    "name": "ipython",
    "version": 3
   },
   "file_extension": ".py",
   "mimetype": "text/x-python",
   "name": "python",
   "nbconvert_exporter": "python",
   "pygments_lexer": "ipython3",
   "version": "3.11.5"
  }
 },
 "nbformat": 4,
 "nbformat_minor": 5
}
