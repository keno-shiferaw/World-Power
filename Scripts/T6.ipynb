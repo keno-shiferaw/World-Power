{
 "cells": [
  {
   "cell_type": "markdown",
   "id": "3619e663",
   "metadata": {},
   "source": [
    "### 1. Import Libraries and Dataframe"
   ]
  },
  {
   "cell_type": "code",
   "execution_count": 56,
   "id": "4a12d90a",
   "metadata": {},
   "outputs": [],
   "source": [
    "import pandas as pd\n",
    "import numpy as np\n",
    "import seaborn as sns\n",
    "import matplotlib \n",
    "import matplotlib.pyplot as plt\n",
    "import os\n",
    "import statsmodels.api as sm\n",
    "import warnings\n",
    "\n",
    "warnings.filterwarnings(\"ignore\")\n",
    "\n",
    "\n",
    "plt.style.use('fivethirtyeight') # This is a styling option for how plots will appear"
   ]
  },
  {
   "cell_type": "code",
   "execution_count": 2,
   "id": "2b59b0d9",
   "metadata": {},
   "outputs": [],
   "source": [
    "path = r'C:\\Users\\kshifera\\Desktop\\CF_Course\\Immersion\\Achievement_6\\WorldEnergyConsumptionAnalysis'"
   ]
  },
  {
   "cell_type": "code",
   "execution_count": 3,
   "id": "fc64f5f8",
   "metadata": {},
   "outputs": [],
   "source": [
    "# import dataframe\n",
    "df = pd.read_csv(os.path.join(path,'02 Data', 'Prepared Data', 'T4.csv'), index_col = False)"
   ]
  },
  {
   "cell_type": "code",
   "execution_count": 4,
   "id": "ddeb8ff4",
   "metadata": {},
   "outputs": [
    {
     "data": {
      "text/html": [
       "<div>\n",
       "<style scoped>\n",
       "    .dataframe tbody tr th:only-of-type {\n",
       "        vertical-align: middle;\n",
       "    }\n",
       "\n",
       "    .dataframe tbody tr th {\n",
       "        vertical-align: top;\n",
       "    }\n",
       "\n",
       "    .dataframe thead th {\n",
       "        text-align: right;\n",
       "    }\n",
       "</style>\n",
       "<table border=\"1\" class=\"dataframe\">\n",
       "  <thead>\n",
       "    <tr style=\"text-align: right;\">\n",
       "      <th></th>\n",
       "      <th>Unnamed: 0</th>\n",
       "      <th>country</th>\n",
       "      <th>year</th>\n",
       "      <th>iso_code</th>\n",
       "      <th>population</th>\n",
       "      <th>gdp</th>\n",
       "      <th>biofuel_cons_change_pct</th>\n",
       "      <th>biofuel_cons_change_twh</th>\n",
       "      <th>biofuel_cons_per_capita</th>\n",
       "      <th>biofuel_consumption</th>\n",
       "      <th>...</th>\n",
       "      <th>wind_energy_per_capita</th>\n",
       "      <th>wind_share_elec</th>\n",
       "      <th>wind_share_energy</th>\n",
       "      <th>electrification_rate</th>\n",
       "      <th>fossils?</th>\n",
       "      <th>renewables?</th>\n",
       "      <th>nuclear?</th>\n",
       "      <th>continent</th>\n",
       "      <th>gdp_per_capita</th>\n",
       "      <th>income_group</th>\n",
       "    </tr>\n",
       "  </thead>\n",
       "  <tbody>\n",
       "    <tr>\n",
       "      <th>0</th>\n",
       "      <td>0</td>\n",
       "      <td>Afghanistan</td>\n",
       "      <td>2000</td>\n",
       "      <td>AFG</td>\n",
       "      <td>19542986.0</td>\n",
       "      <td>1.128379e+10</td>\n",
       "      <td>NaN</td>\n",
       "      <td>NaN</td>\n",
       "      <td>NaN</td>\n",
       "      <td>NaN</td>\n",
       "      <td>...</td>\n",
       "      <td>NaN</td>\n",
       "      <td>0.0</td>\n",
       "      <td>NaN</td>\n",
       "      <td>4.45</td>\n",
       "      <td>yes</td>\n",
       "      <td>yes</td>\n",
       "      <td>no</td>\n",
       "      <td>Asia</td>\n",
       "      <td>577.383256</td>\n",
       "      <td>low-income</td>\n",
       "    </tr>\n",
       "    <tr>\n",
       "      <th>1</th>\n",
       "      <td>1</td>\n",
       "      <td>Afghanistan</td>\n",
       "      <td>2001</td>\n",
       "      <td>AFG</td>\n",
       "      <td>19688634.0</td>\n",
       "      <td>1.102127e+10</td>\n",
       "      <td>NaN</td>\n",
       "      <td>NaN</td>\n",
       "      <td>NaN</td>\n",
       "      <td>NaN</td>\n",
       "      <td>...</td>\n",
       "      <td>NaN</td>\n",
       "      <td>0.0</td>\n",
       "      <td>NaN</td>\n",
       "      <td>9.29</td>\n",
       "      <td>yes</td>\n",
       "      <td>yes</td>\n",
       "      <td>no</td>\n",
       "      <td>Asia</td>\n",
       "      <td>559.778453</td>\n",
       "      <td>low-income</td>\n",
       "    </tr>\n",
       "    <tr>\n",
       "      <th>2</th>\n",
       "      <td>2</td>\n",
       "      <td>Afghanistan</td>\n",
       "      <td>2002</td>\n",
       "      <td>AFG</td>\n",
       "      <td>21000258.0</td>\n",
       "      <td>1.880487e+10</td>\n",
       "      <td>NaN</td>\n",
       "      <td>NaN</td>\n",
       "      <td>NaN</td>\n",
       "      <td>NaN</td>\n",
       "      <td>...</td>\n",
       "      <td>NaN</td>\n",
       "      <td>0.0</td>\n",
       "      <td>NaN</td>\n",
       "      <td>14.13</td>\n",
       "      <td>yes</td>\n",
       "      <td>yes</td>\n",
       "      <td>no</td>\n",
       "      <td>Asia</td>\n",
       "      <td>895.459054</td>\n",
       "      <td>low-income</td>\n",
       "    </tr>\n",
       "    <tr>\n",
       "      <th>3</th>\n",
       "      <td>3</td>\n",
       "      <td>Afghanistan</td>\n",
       "      <td>2003</td>\n",
       "      <td>AFG</td>\n",
       "      <td>22645136.0</td>\n",
       "      <td>2.107434e+10</td>\n",
       "      <td>NaN</td>\n",
       "      <td>NaN</td>\n",
       "      <td>NaN</td>\n",
       "      <td>NaN</td>\n",
       "      <td>...</td>\n",
       "      <td>NaN</td>\n",
       "      <td>0.0</td>\n",
       "      <td>NaN</td>\n",
       "      <td>18.97</td>\n",
       "      <td>yes</td>\n",
       "      <td>yes</td>\n",
       "      <td>no</td>\n",
       "      <td>Asia</td>\n",
       "      <td>930.634461</td>\n",
       "      <td>low-income</td>\n",
       "    </tr>\n",
       "    <tr>\n",
       "      <th>4</th>\n",
       "      <td>4</td>\n",
       "      <td>Afghanistan</td>\n",
       "      <td>2004</td>\n",
       "      <td>AFG</td>\n",
       "      <td>23553554.0</td>\n",
       "      <td>2.233257e+10</td>\n",
       "      <td>NaN</td>\n",
       "      <td>NaN</td>\n",
       "      <td>NaN</td>\n",
       "      <td>NaN</td>\n",
       "      <td>...</td>\n",
       "      <td>NaN</td>\n",
       "      <td>0.0</td>\n",
       "      <td>NaN</td>\n",
       "      <td>23.81</td>\n",
       "      <td>yes</td>\n",
       "      <td>yes</td>\n",
       "      <td>no</td>\n",
       "      <td>Asia</td>\n",
       "      <td>948.161439</td>\n",
       "      <td>low-income</td>\n",
       "    </tr>\n",
       "  </tbody>\n",
       "</table>\n",
       "<p>5 rows × 137 columns</p>\n",
       "</div>"
      ],
      "text/plain": [
       "   Unnamed: 0      country  year iso_code  population           gdp  \\\n",
       "0           0  Afghanistan  2000      AFG  19542986.0  1.128379e+10   \n",
       "1           1  Afghanistan  2001      AFG  19688634.0  1.102127e+10   \n",
       "2           2  Afghanistan  2002      AFG  21000258.0  1.880487e+10   \n",
       "3           3  Afghanistan  2003      AFG  22645136.0  2.107434e+10   \n",
       "4           4  Afghanistan  2004      AFG  23553554.0  2.233257e+10   \n",
       "\n",
       "   biofuel_cons_change_pct  biofuel_cons_change_twh  biofuel_cons_per_capita  \\\n",
       "0                      NaN                      NaN                      NaN   \n",
       "1                      NaN                      NaN                      NaN   \n",
       "2                      NaN                      NaN                      NaN   \n",
       "3                      NaN                      NaN                      NaN   \n",
       "4                      NaN                      NaN                      NaN   \n",
       "\n",
       "   biofuel_consumption  ...  wind_energy_per_capita  wind_share_elec  \\\n",
       "0                  NaN  ...                     NaN              0.0   \n",
       "1                  NaN  ...                     NaN              0.0   \n",
       "2                  NaN  ...                     NaN              0.0   \n",
       "3                  NaN  ...                     NaN              0.0   \n",
       "4                  NaN  ...                     NaN              0.0   \n",
       "\n",
       "   wind_share_energy  electrification_rate  fossils?  renewables?  nuclear?  \\\n",
       "0                NaN                  4.45       yes          yes        no   \n",
       "1                NaN                  9.29       yes          yes        no   \n",
       "2                NaN                 14.13       yes          yes        no   \n",
       "3                NaN                 18.97       yes          yes        no   \n",
       "4                NaN                 23.81       yes          yes        no   \n",
       "\n",
       "   continent  gdp_per_capita  income_group  \n",
       "0       Asia      577.383256    low-income  \n",
       "1       Asia      559.778453    low-income  \n",
       "2       Asia      895.459054    low-income  \n",
       "3       Asia      930.634461    low-income  \n",
       "4       Asia      948.161439    low-income  \n",
       "\n",
       "[5 rows x 137 columns]"
      ]
     },
     "execution_count": 4,
     "metadata": {},
     "output_type": "execute_result"
    }
   ],
   "source": [
    "# check\n",
    "df.head()"
   ]
  },
  {
   "cell_type": "code",
   "execution_count": 5,
   "id": "3282bcf5",
   "metadata": {},
   "outputs": [
    {
     "data": {
      "text/html": [
       "<div>\n",
       "<style scoped>\n",
       "    .dataframe tbody tr th:only-of-type {\n",
       "        vertical-align: middle;\n",
       "    }\n",
       "\n",
       "    .dataframe tbody tr th {\n",
       "        vertical-align: top;\n",
       "    }\n",
       "\n",
       "    .dataframe thead th {\n",
       "        text-align: right;\n",
       "    }\n",
       "</style>\n",
       "<table border=\"1\" class=\"dataframe\">\n",
       "  <thead>\n",
       "    <tr style=\"text-align: right;\">\n",
       "      <th></th>\n",
       "      <th>country</th>\n",
       "      <th>year</th>\n",
       "      <th>iso_code</th>\n",
       "      <th>population</th>\n",
       "      <th>gdp</th>\n",
       "      <th>biofuel_cons_change_pct</th>\n",
       "      <th>biofuel_cons_change_twh</th>\n",
       "      <th>biofuel_cons_per_capita</th>\n",
       "      <th>biofuel_consumption</th>\n",
       "      <th>biofuel_elec_per_capita</th>\n",
       "      <th>...</th>\n",
       "      <th>wind_energy_per_capita</th>\n",
       "      <th>wind_share_elec</th>\n",
       "      <th>wind_share_energy</th>\n",
       "      <th>electrification_rate</th>\n",
       "      <th>fossils?</th>\n",
       "      <th>renewables?</th>\n",
       "      <th>nuclear?</th>\n",
       "      <th>continent</th>\n",
       "      <th>gdp_per_capita</th>\n",
       "      <th>income_group</th>\n",
       "    </tr>\n",
       "  </thead>\n",
       "  <tbody>\n",
       "    <tr>\n",
       "      <th>0</th>\n",
       "      <td>Afghanistan</td>\n",
       "      <td>2000</td>\n",
       "      <td>AFG</td>\n",
       "      <td>19542986.0</td>\n",
       "      <td>1.128379e+10</td>\n",
       "      <td>NaN</td>\n",
       "      <td>NaN</td>\n",
       "      <td>NaN</td>\n",
       "      <td>NaN</td>\n",
       "      <td>0.0</td>\n",
       "      <td>...</td>\n",
       "      <td>NaN</td>\n",
       "      <td>0.0</td>\n",
       "      <td>NaN</td>\n",
       "      <td>4.45</td>\n",
       "      <td>yes</td>\n",
       "      <td>yes</td>\n",
       "      <td>no</td>\n",
       "      <td>Asia</td>\n",
       "      <td>577.383256</td>\n",
       "      <td>low-income</td>\n",
       "    </tr>\n",
       "    <tr>\n",
       "      <th>1</th>\n",
       "      <td>Afghanistan</td>\n",
       "      <td>2001</td>\n",
       "      <td>AFG</td>\n",
       "      <td>19688634.0</td>\n",
       "      <td>1.102127e+10</td>\n",
       "      <td>NaN</td>\n",
       "      <td>NaN</td>\n",
       "      <td>NaN</td>\n",
       "      <td>NaN</td>\n",
       "      <td>0.0</td>\n",
       "      <td>...</td>\n",
       "      <td>NaN</td>\n",
       "      <td>0.0</td>\n",
       "      <td>NaN</td>\n",
       "      <td>9.29</td>\n",
       "      <td>yes</td>\n",
       "      <td>yes</td>\n",
       "      <td>no</td>\n",
       "      <td>Asia</td>\n",
       "      <td>559.778453</td>\n",
       "      <td>low-income</td>\n",
       "    </tr>\n",
       "    <tr>\n",
       "      <th>2</th>\n",
       "      <td>Afghanistan</td>\n",
       "      <td>2002</td>\n",
       "      <td>AFG</td>\n",
       "      <td>21000258.0</td>\n",
       "      <td>1.880487e+10</td>\n",
       "      <td>NaN</td>\n",
       "      <td>NaN</td>\n",
       "      <td>NaN</td>\n",
       "      <td>NaN</td>\n",
       "      <td>0.0</td>\n",
       "      <td>...</td>\n",
       "      <td>NaN</td>\n",
       "      <td>0.0</td>\n",
       "      <td>NaN</td>\n",
       "      <td>14.13</td>\n",
       "      <td>yes</td>\n",
       "      <td>yes</td>\n",
       "      <td>no</td>\n",
       "      <td>Asia</td>\n",
       "      <td>895.459054</td>\n",
       "      <td>low-income</td>\n",
       "    </tr>\n",
       "    <tr>\n",
       "      <th>3</th>\n",
       "      <td>Afghanistan</td>\n",
       "      <td>2003</td>\n",
       "      <td>AFG</td>\n",
       "      <td>22645136.0</td>\n",
       "      <td>2.107434e+10</td>\n",
       "      <td>NaN</td>\n",
       "      <td>NaN</td>\n",
       "      <td>NaN</td>\n",
       "      <td>NaN</td>\n",
       "      <td>0.0</td>\n",
       "      <td>...</td>\n",
       "      <td>NaN</td>\n",
       "      <td>0.0</td>\n",
       "      <td>NaN</td>\n",
       "      <td>18.97</td>\n",
       "      <td>yes</td>\n",
       "      <td>yes</td>\n",
       "      <td>no</td>\n",
       "      <td>Asia</td>\n",
       "      <td>930.634461</td>\n",
       "      <td>low-income</td>\n",
       "    </tr>\n",
       "    <tr>\n",
       "      <th>4</th>\n",
       "      <td>Afghanistan</td>\n",
       "      <td>2004</td>\n",
       "      <td>AFG</td>\n",
       "      <td>23553554.0</td>\n",
       "      <td>2.233257e+10</td>\n",
       "      <td>NaN</td>\n",
       "      <td>NaN</td>\n",
       "      <td>NaN</td>\n",
       "      <td>NaN</td>\n",
       "      <td>0.0</td>\n",
       "      <td>...</td>\n",
       "      <td>NaN</td>\n",
       "      <td>0.0</td>\n",
       "      <td>NaN</td>\n",
       "      <td>23.81</td>\n",
       "      <td>yes</td>\n",
       "      <td>yes</td>\n",
       "      <td>no</td>\n",
       "      <td>Asia</td>\n",
       "      <td>948.161439</td>\n",
       "      <td>low-income</td>\n",
       "    </tr>\n",
       "  </tbody>\n",
       "</table>\n",
       "<p>5 rows × 136 columns</p>\n",
       "</div>"
      ],
      "text/plain": [
       "       country  year iso_code  population           gdp  \\\n",
       "0  Afghanistan  2000      AFG  19542986.0  1.128379e+10   \n",
       "1  Afghanistan  2001      AFG  19688634.0  1.102127e+10   \n",
       "2  Afghanistan  2002      AFG  21000258.0  1.880487e+10   \n",
       "3  Afghanistan  2003      AFG  22645136.0  2.107434e+10   \n",
       "4  Afghanistan  2004      AFG  23553554.0  2.233257e+10   \n",
       "\n",
       "   biofuel_cons_change_pct  biofuel_cons_change_twh  biofuel_cons_per_capita  \\\n",
       "0                      NaN                      NaN                      NaN   \n",
       "1                      NaN                      NaN                      NaN   \n",
       "2                      NaN                      NaN                      NaN   \n",
       "3                      NaN                      NaN                      NaN   \n",
       "4                      NaN                      NaN                      NaN   \n",
       "\n",
       "   biofuel_consumption  biofuel_elec_per_capita  ...  wind_energy_per_capita  \\\n",
       "0                  NaN                      0.0  ...                     NaN   \n",
       "1                  NaN                      0.0  ...                     NaN   \n",
       "2                  NaN                      0.0  ...                     NaN   \n",
       "3                  NaN                      0.0  ...                     NaN   \n",
       "4                  NaN                      0.0  ...                     NaN   \n",
       "\n",
       "   wind_share_elec  wind_share_energy  electrification_rate  fossils?  \\\n",
       "0              0.0                NaN                  4.45       yes   \n",
       "1              0.0                NaN                  9.29       yes   \n",
       "2              0.0                NaN                 14.13       yes   \n",
       "3              0.0                NaN                 18.97       yes   \n",
       "4              0.0                NaN                 23.81       yes   \n",
       "\n",
       "   renewables?  nuclear?  continent  gdp_per_capita  income_group  \n",
       "0          yes        no       Asia      577.383256    low-income  \n",
       "1          yes        no       Asia      559.778453    low-income  \n",
       "2          yes        no       Asia      895.459054    low-income  \n",
       "3          yes        no       Asia      930.634461    low-income  \n",
       "4          yes        no       Asia      948.161439    low-income  \n",
       "\n",
       "[5 rows x 136 columns]"
      ]
     },
     "execution_count": 5,
     "metadata": {},
     "output_type": "execute_result"
    }
   ],
   "source": [
    "# drop 'Unnamed: 0' column\n",
    "df = df.drop(columns = ['Unnamed: 0'])\n",
    "df.head()"
   ]
  },
  {
   "cell_type": "code",
   "execution_count": 6,
   "id": "c1bba005",
   "metadata": {},
   "outputs": [
    {
     "data": {
      "text/plain": [
       "(3130, 136)"
      ]
     },
     "execution_count": 6,
     "metadata": {},
     "output_type": "execute_result"
    }
   ],
   "source": [
    "df.shape"
   ]
  },
  {
   "cell_type": "code",
   "execution_count": 7,
   "id": "4efff5b2",
   "metadata": {},
   "outputs": [
    {
     "data": {
      "text/plain": [
       "Index(['country', 'year', 'iso_code', 'population', 'gdp',\n",
       "       'biofuel_cons_change_pct', 'biofuel_cons_change_twh',\n",
       "       'biofuel_cons_per_capita', 'biofuel_consumption',\n",
       "       'biofuel_elec_per_capita',\n",
       "       ...\n",
       "       'wind_energy_per_capita', 'wind_share_elec', 'wind_share_energy',\n",
       "       'electrification_rate', 'fossils?', 'renewables?', 'nuclear?',\n",
       "       'continent', 'gdp_per_capita', 'income_group'],\n",
       "      dtype='object', length=136)"
      ]
     },
     "execution_count": 7,
     "metadata": {},
     "output_type": "execute_result"
    }
   ],
   "source": [
    "df.columns"
   ]
  },
  {
   "cell_type": "markdown",
   "id": "8de4839c",
   "metadata": {},
   "source": [
    "### 2. Subsetting"
   ]
  },
  {
   "cell_type": "markdown",
   "id": "d8b618c0",
   "metadata": {},
   "source": [
    "#### Dataframe contains records of 165 countries of the world for 19 years, between 2000 and 2018. For this exercise, we use a subset of this dataframe and analyse the greenhouse gas emissions from the electricity sector of China"
   ]
  },
  {
   "cell_type": "code",
   "execution_count": 9,
   "id": "8184d53d",
   "metadata": {},
   "outputs": [],
   "source": [
    "# select only china\n",
    "df2 = df.loc[(df['country'] == 'China')]"
   ]
  },
  {
   "cell_type": "code",
   "execution_count": 23,
   "id": "9a59aee3",
   "metadata": {},
   "outputs": [],
   "source": [
    "# select columns 'year' & 'greenhouse_gas_emissions' only\n",
    "df3 = df2[['year', 'greenhouse_gas_emissions']]"
   ]
  },
  {
   "cell_type": "code",
   "execution_count": 24,
   "id": "a23128b5",
   "metadata": {},
   "outputs": [
    {
     "data": {
      "text/html": [
       "<div>\n",
       "<style scoped>\n",
       "    .dataframe tbody tr th:only-of-type {\n",
       "        vertical-align: middle;\n",
       "    }\n",
       "\n",
       "    .dataframe tbody tr th {\n",
       "        vertical-align: top;\n",
       "    }\n",
       "\n",
       "    .dataframe thead th {\n",
       "        text-align: right;\n",
       "    }\n",
       "</style>\n",
       "<table border=\"1\" class=\"dataframe\">\n",
       "  <thead>\n",
       "    <tr style=\"text-align: right;\">\n",
       "      <th></th>\n",
       "      <th>year</th>\n",
       "      <th>greenhouse_gas_emissions</th>\n",
       "    </tr>\n",
       "  </thead>\n",
       "  <tbody>\n",
       "    <tr>\n",
       "      <th>551</th>\n",
       "      <td>2000</td>\n",
       "      <td>911.46</td>\n",
       "    </tr>\n",
       "    <tr>\n",
       "      <th>552</th>\n",
       "      <td>2001</td>\n",
       "      <td>969.74</td>\n",
       "    </tr>\n",
       "    <tr>\n",
       "      <th>553</th>\n",
       "      <td>2002</td>\n",
       "      <td>1097.06</td>\n",
       "    </tr>\n",
       "    <tr>\n",
       "      <th>554</th>\n",
       "      <td>2003</td>\n",
       "      <td>1295.21</td>\n",
       "    </tr>\n",
       "    <tr>\n",
       "      <th>555</th>\n",
       "      <td>2004</td>\n",
       "      <td>1471.59</td>\n",
       "    </tr>\n",
       "    <tr>\n",
       "      <th>556</th>\n",
       "      <td>2005</td>\n",
       "      <td>1676.44</td>\n",
       "    </tr>\n",
       "    <tr>\n",
       "      <th>557</th>\n",
       "      <td>2006</td>\n",
       "      <td>1938.99</td>\n",
       "    </tr>\n",
       "    <tr>\n",
       "      <th>558</th>\n",
       "      <td>2007</td>\n",
       "      <td>2229.51</td>\n",
       "    </tr>\n",
       "    <tr>\n",
       "      <th>559</th>\n",
       "      <td>2008</td>\n",
       "      <td>2271.10</td>\n",
       "    </tr>\n",
       "    <tr>\n",
       "      <th>560</th>\n",
       "      <td>2009</td>\n",
       "      <td>2444.37</td>\n",
       "    </tr>\n",
       "    <tr>\n",
       "      <th>561</th>\n",
       "      <td>2010</td>\n",
       "      <td>2724.31</td>\n",
       "    </tr>\n",
       "    <tr>\n",
       "      <th>562</th>\n",
       "      <td>2011</td>\n",
       "      <td>3113.16</td>\n",
       "    </tr>\n",
       "    <tr>\n",
       "      <th>563</th>\n",
       "      <td>2012</td>\n",
       "      <td>3165.32</td>\n",
       "    </tr>\n",
       "    <tr>\n",
       "      <th>564</th>\n",
       "      <td>2013</td>\n",
       "      <td>3441.11</td>\n",
       "    </tr>\n",
       "    <tr>\n",
       "      <th>565</th>\n",
       "      <td>2014</td>\n",
       "      <td>3559.04</td>\n",
       "    </tr>\n",
       "    <tr>\n",
       "      <th>566</th>\n",
       "      <td>2015</td>\n",
       "      <td>3451.62</td>\n",
       "    </tr>\n",
       "    <tr>\n",
       "      <th>567</th>\n",
       "      <td>2016</td>\n",
       "      <td>3558.10</td>\n",
       "    </tr>\n",
       "    <tr>\n",
       "      <th>568</th>\n",
       "      <td>2017</td>\n",
       "      <td>3797.35</td>\n",
       "    </tr>\n",
       "    <tr>\n",
       "      <th>569</th>\n",
       "      <td>2018</td>\n",
       "      <td>4085.99</td>\n",
       "    </tr>\n",
       "  </tbody>\n",
       "</table>\n",
       "</div>"
      ],
      "text/plain": [
       "     year  greenhouse_gas_emissions\n",
       "551  2000                    911.46\n",
       "552  2001                    969.74\n",
       "553  2002                   1097.06\n",
       "554  2003                   1295.21\n",
       "555  2004                   1471.59\n",
       "556  2005                   1676.44\n",
       "557  2006                   1938.99\n",
       "558  2007                   2229.51\n",
       "559  2008                   2271.10\n",
       "560  2009                   2444.37\n",
       "561  2010                   2724.31\n",
       "562  2011                   3113.16\n",
       "563  2012                   3165.32\n",
       "564  2013                   3441.11\n",
       "565  2014                   3559.04\n",
       "566  2015                   3451.62\n",
       "567  2016                   3558.10\n",
       "568  2017                   3797.35\n",
       "569  2018                   4085.99"
      ]
     },
     "execution_count": 24,
     "metadata": {},
     "output_type": "execute_result"
    }
   ],
   "source": [
    "df3.head(19)"
   ]
  },
  {
   "cell_type": "code",
   "execution_count": 25,
   "id": "ca5e159e",
   "metadata": {},
   "outputs": [
    {
     "data": {
      "text/plain": [
       "Index(['year', 'greenhouse_gas_emissions'], dtype='object')"
      ]
     },
     "execution_count": 25,
     "metadata": {},
     "output_type": "execute_result"
    }
   ],
   "source": [
    "df3.columns"
   ]
  },
  {
   "cell_type": "code",
   "execution_count": 34,
   "id": "6feba001",
   "metadata": {},
   "outputs": [
    {
     "data": {
      "text/html": [
       "<div>\n",
       "<style scoped>\n",
       "    .dataframe tbody tr th:only-of-type {\n",
       "        vertical-align: middle;\n",
       "    }\n",
       "\n",
       "    .dataframe tbody tr th {\n",
       "        vertical-align: top;\n",
       "    }\n",
       "\n",
       "    .dataframe thead th {\n",
       "        text-align: right;\n",
       "    }\n",
       "</style>\n",
       "<table border=\"1\" class=\"dataframe\">\n",
       "  <thead>\n",
       "    <tr style=\"text-align: right;\">\n",
       "      <th></th>\n",
       "      <th>greenhouse_gas_emissions</th>\n",
       "    </tr>\n",
       "    <tr>\n",
       "      <th>year</th>\n",
       "      <th></th>\n",
       "    </tr>\n",
       "  </thead>\n",
       "  <tbody>\n",
       "    <tr>\n",
       "      <th>2000</th>\n",
       "      <td>911.46</td>\n",
       "    </tr>\n",
       "    <tr>\n",
       "      <th>2001</th>\n",
       "      <td>969.74</td>\n",
       "    </tr>\n",
       "    <tr>\n",
       "      <th>2002</th>\n",
       "      <td>1097.06</td>\n",
       "    </tr>\n",
       "    <tr>\n",
       "      <th>2003</th>\n",
       "      <td>1295.21</td>\n",
       "    </tr>\n",
       "    <tr>\n",
       "      <th>2004</th>\n",
       "      <td>1471.59</td>\n",
       "    </tr>\n",
       "    <tr>\n",
       "      <th>2005</th>\n",
       "      <td>1676.44</td>\n",
       "    </tr>\n",
       "    <tr>\n",
       "      <th>2006</th>\n",
       "      <td>1938.99</td>\n",
       "    </tr>\n",
       "    <tr>\n",
       "      <th>2007</th>\n",
       "      <td>2229.51</td>\n",
       "    </tr>\n",
       "    <tr>\n",
       "      <th>2008</th>\n",
       "      <td>2271.10</td>\n",
       "    </tr>\n",
       "    <tr>\n",
       "      <th>2009</th>\n",
       "      <td>2444.37</td>\n",
       "    </tr>\n",
       "    <tr>\n",
       "      <th>2010</th>\n",
       "      <td>2724.31</td>\n",
       "    </tr>\n",
       "    <tr>\n",
       "      <th>2011</th>\n",
       "      <td>3113.16</td>\n",
       "    </tr>\n",
       "    <tr>\n",
       "      <th>2012</th>\n",
       "      <td>3165.32</td>\n",
       "    </tr>\n",
       "    <tr>\n",
       "      <th>2013</th>\n",
       "      <td>3441.11</td>\n",
       "    </tr>\n",
       "    <tr>\n",
       "      <th>2014</th>\n",
       "      <td>3559.04</td>\n",
       "    </tr>\n",
       "    <tr>\n",
       "      <th>2015</th>\n",
       "      <td>3451.62</td>\n",
       "    </tr>\n",
       "    <tr>\n",
       "      <th>2016</th>\n",
       "      <td>3558.10</td>\n",
       "    </tr>\n",
       "    <tr>\n",
       "      <th>2017</th>\n",
       "      <td>3797.35</td>\n",
       "    </tr>\n",
       "    <tr>\n",
       "      <th>2018</th>\n",
       "      <td>4085.99</td>\n",
       "    </tr>\n",
       "  </tbody>\n",
       "</table>\n",
       "</div>"
      ],
      "text/plain": [
       "      greenhouse_gas_emissions\n",
       "year                          \n",
       "2000                    911.46\n",
       "2001                    969.74\n",
       "2002                   1097.06\n",
       "2003                   1295.21\n",
       "2004                   1471.59\n",
       "2005                   1676.44\n",
       "2006                   1938.99\n",
       "2007                   2229.51\n",
       "2008                   2271.10\n",
       "2009                   2444.37\n",
       "2010                   2724.31\n",
       "2011                   3113.16\n",
       "2012                   3165.32\n",
       "2013                   3441.11\n",
       "2014                   3559.04\n",
       "2015                   3451.62\n",
       "2016                   3558.10\n",
       "2017                   3797.35\n",
       "2018                   4085.99"
      ]
     },
     "execution_count": 34,
     "metadata": {},
     "output_type": "execute_result"
    }
   ],
   "source": [
    "# set the 'year' column as index\n",
    "df4=df3.set_index(['year'])\n",
    "df4"
   ]
  },
  {
   "cell_type": "code",
   "execution_count": 45,
   "id": "3ace0c96",
   "metadata": {},
   "outputs": [],
   "source": [
    "# convert the index to a datetime timestamp\n",
    "df4.index = pd.to_datetime(df4.index, format='%Y')"
   ]
  },
  {
   "cell_type": "code",
   "execution_count": 57,
   "id": "6b8880a9",
   "metadata": {
    "scrolled": true
   },
   "outputs": [
    {
     "data": {
      "text/plain": [
       "[<matplotlib.lines.Line2D at 0x2576d1cb5d0>]"
      ]
     },
     "execution_count": 57,
     "metadata": {},
     "output_type": "execute_result"
    },
    {
     "data": {
      "image/png": "[encoded data removed]",
      "text/plain": [
       "<Figure size 1500x500 with 1 Axes>"
      ]
     },
     "metadata": {},
     "output_type": "display_data"
    }
   ],
   "source": [
    "# Plot the new data set\n",
    "\n",
    "plt.figure(figsize=(15,5), dpi=100)\n",
    "plt.plot(df4)"
   ]
  },
  {
   "cell_type": "code",
   "execution_count": 47,
   "id": "11f74713",
   "metadata": {},
   "outputs": [
    {
     "data": {
      "text/plain": [
       "greenhouse_gas_emissions    0\n",
       "dtype: int64"
      ]
     },
     "execution_count": 47,
     "metadata": {},
     "output_type": "execute_result"
    }
   ],
   "source": [
    "# check for missing values\n",
    "df4.isnull().sum()"
   ]
  },
  {
   "cell_type": "code",
   "execution_count": 48,
   "id": "4faab7d4",
   "metadata": {},
   "outputs": [
    {
     "data": {
      "text/plain": [
       "0"
      ]
     },
     "execution_count": 48,
     "metadata": {},
     "output_type": "execute_result"
    }
   ],
   "source": [
    "# check for duplicates\n",
    "dups = df4.duplicated()\n",
    "dups.sum()"
   ]
  },
  {
   "cell_type": "markdown",
   "id": "96917fe8",
   "metadata": {},
   "source": [
    "### 3. Time-series Analysis"
   ]
  },
  {
   "cell_type": "code",
   "execution_count": 50,
   "id": "f4c5a7ef",
   "metadata": {},
   "outputs": [],
   "source": [
    "# decomposition using the additive model\n",
    "decomposition = sm.tsa.seasonal_decompose(df4,model='additive')"
   ]
  },
  {
   "cell_type": "code",
   "execution_count": 58,
   "id": "de01a231",
   "metadata": {},
   "outputs": [],
   "source": [
    "from pylab import rcParams # This will define a fixed size for all special charts.\n",
    "\n",
    "rcParams['figure.figsize'] = 18, 7"
   ]
  },
  {
   "cell_type": "code",
   "execution_count": 59,
   "id": "637ff46e",
   "metadata": {},
   "outputs": [
    {
     "data": {
      "image/png": "[encoded data removed]",
      "text/plain": [
       "<Figure size 1800x700 with 4 Axes>"
      ]
     },
     "metadata": {},
     "output_type": "display_data"
    }
   ],
   "source": [
    "# Plot the separate components\n",
    "\n",
    "decomposition.plot()\n",
    "plt.show()"
   ]
  },
  {
   "cell_type": "markdown",
   "id": "a4972dc1",
   "metadata": {},
   "source": [
    "#### The data has no seasonality"
   ]
  },
  {
   "cell_type": "markdown",
   "id": "fdfeaae5",
   "metadata": {},
   "source": [
    "### 4. Test for Stationarity"
   ]
  },
  {
   "cell_type": "code",
   "execution_count": 60,
   "id": "83229f15",
   "metadata": {},
   "outputs": [
    {
     "name": "stdout",
     "output_type": "stream",
     "text": [
      "Dickey-Fuller Stationarity test:\n",
      "Test Statistic                 -3.500169\n",
      "p-value                         0.007983\n",
      "Number of Lags Used             7.000000\n",
      "Number of Observations Used    11.000000\n",
      "Critical Value (1%)            -4.223238\n",
      "Critical Value (5%)            -3.189369\n",
      "Critical Value (10%)           -2.729839\n",
      "dtype: float64\n"
     ]
    }
   ],
   "source": [
    "from statsmodels.tsa.stattools import adfuller # import the adfuller() function\n",
    "\n",
    "def dickey_fuller(timeseries): # define the function\n",
    "    # perform the Dickey-Fuller test:\n",
    "    print ('Dickey-Fuller Stationarity test:')\n",
    "    test = adfuller(timeseries, autolag='AIC')\n",
    "    result = pd.Series(test[0:4], index=['Test Statistic','p-value','Number of Lags Used','Number of Observations Used'])\n",
    "    for key,value in test[4].items():\n",
    "       result['Critical Value (%s)'%key] = value\n",
    "    print (result)\n",
    "\n",
    "# Apply the test using the function on the time series\n",
    "dickey_fuller(df4['greenhouse_gas_emissions'])"
   ]
  },
  {
   "cell_type": "markdown",
   "id": "719ca58c",
   "metadata": {},
   "source": [
    "#### At significance level of 5%, the test statistic with -3.500169 has a value less than the critical value which is -3.189369. Therefore, we can reject the null hypothesis."
   ]
  },
  {
   "cell_type": "code",
   "execution_count": 61,
   "id": "8d690031",
   "metadata": {},
   "outputs": [
    {
     "data": {
      "image/png": "[encoded data removed]",
      "text/plain": [
       "<Figure size 1800x700 with 1 Axes>"
      ]
     },
     "metadata": {},
     "output_type": "display_data"
    }
   ],
   "source": [
    "# check a plot of autocorrelations\n",
    "\n",
    "from statsmodels.graphics.tsaplots import plot_acf, plot_pacf \n",
    "plot_acf(df4)\n",
    "plt.show()"
   ]
  },
  {
   "cell_type": "markdown",
   "id": "7d15ef64",
   "metadata": {},
   "source": [
    "#### With only two lines going above the blue edge of the confidence interval, we can deduce that our data has minimum autocorrelated data, which supports the result of the Dickey-Fuller test."
   ]
  },
  {
   "cell_type": "code",
   "execution_count": 62,
   "id": "06f97fc1",
   "metadata": {},
   "outputs": [],
   "source": [
    "# Export\n",
    "df4.to_csv(os.path.join(path, '02 Data', 'Prepared Data', 'T6_sub.csv'))"
   ]
  },
  {
   "cell_type": "code",
   "execution_count": null,
   "id": "761e0480",
   "metadata": {},
   "outputs": [],
   "source": []
  }
 ],
 "metadata": {
  "kernelspec": {
   "display_name": "Python 3 (ipykernel)",
   "language": "python",
   "name": "python3"
  },
  "language_info": {
   "codemirror_mode": {
    "name": "ipython",
    "version": 3
   },
   "file_extension": ".py",
   "mimetype": "text/x-python",
   "name": "python",
   "nbconvert_exporter": "python",
   "pygments_lexer": "ipython3",
   "version": "3.11.5"
  }
 },
 "nbformat": 4,
 "nbformat_minor": 5
}
