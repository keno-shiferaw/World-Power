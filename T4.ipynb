{
 "cells": [
  {
   "cell_type": "markdown",
   "id": "4a975d87",
   "metadata": {},
   "source": [
    "### 1. Import Libraries and Dataframe"
   ]
  },
  {
   "cell_type": "code",
   "execution_count": 1,
   "id": "41c30efb",
   "metadata": {},
   "outputs": [],
   "source": [
    "import pandas as pd\n",
    "import numpy as np\n",
    "import seaborn as sns\n",
    "import matplotlib\n",
    "import matplotlib.pyplot as plt\n",
    "import os\n",
    "import sklearn\n",
    "from sklearn.model_selection import train_test_split\n",
    "from sklearn.linear_model import LinearRegression\n",
    "from sklearn.metrics import mean_squared_error, r2_score"
   ]
  },
  {
   "cell_type": "code",
   "execution_count": 5,
   "id": "13ef2bac",
   "metadata": {},
   "outputs": [],
   "source": [
    "import warnings\n",
    "warnings.filterwarnings(\"ignore\")"
   ]
  },
  {
   "cell_type": "code",
   "execution_count": 2,
   "id": "16e52efb",
   "metadata": {},
   "outputs": [],
   "source": [
    "path = r'C:\\Users\\kshifera\\Desktop\\CF_Course\\Immersion\\Achievement_6\\WorldEnergyConsumptionAnalysis'"
   ]
  },
  {
   "cell_type": "code",
   "execution_count": 3,
   "id": "cf17a497",
   "metadata": {},
   "outputs": [],
   "source": [
    "# import the dataframe\n",
    "df = pd.read_csv(os.path.join(path,'02 Data', 'Prepared Data', 'T3.csv'), index_col = False)"
   ]
  },
  {
   "cell_type": "markdown",
   "id": "8b46d200",
   "metadata": {},
   "source": [
    "### 2. Data Cleaning"
   ]
  },
  {
   "cell_type": "code",
   "execution_count": 4,
   "id": "d2506294",
   "metadata": {},
   "outputs": [
    {
     "data": {
      "text/html": [
       "<div>\n",
       "<style scoped>\n",
       "    .dataframe tbody tr th:only-of-type {\n",
       "        vertical-align: middle;\n",
       "    }\n",
       "\n",
       "    .dataframe tbody tr th {\n",
       "        vertical-align: top;\n",
       "    }\n",
       "\n",
       "    .dataframe thead th {\n",
       "        text-align: right;\n",
       "    }\n",
       "</style>\n",
       "<table border=\"1\" class=\"dataframe\">\n",
       "  <thead>\n",
       "    <tr style=\"text-align: right;\">\n",
       "      <th></th>\n",
       "      <th>Unnamed: 0</th>\n",
       "      <th>country</th>\n",
       "      <th>year</th>\n",
       "      <th>iso_code</th>\n",
       "      <th>population</th>\n",
       "      <th>gdp</th>\n",
       "      <th>biofuel_cons_change_pct</th>\n",
       "      <th>biofuel_cons_change_twh</th>\n",
       "      <th>biofuel_cons_per_capita</th>\n",
       "      <th>biofuel_consumption</th>\n",
       "      <th>...</th>\n",
       "      <th>wind_energy_per_capita</th>\n",
       "      <th>wind_share_elec</th>\n",
       "      <th>wind_share_energy</th>\n",
       "      <th>electrification_rate</th>\n",
       "      <th>fossils?</th>\n",
       "      <th>renewables?</th>\n",
       "      <th>nuclear?</th>\n",
       "      <th>continent</th>\n",
       "      <th>gdp_per_capita</th>\n",
       "      <th>income_group</th>\n",
       "    </tr>\n",
       "  </thead>\n",
       "  <tbody>\n",
       "    <tr>\n",
       "      <th>0</th>\n",
       "      <td>0</td>\n",
       "      <td>Afghanistan</td>\n",
       "      <td>2000</td>\n",
       "      <td>AFG</td>\n",
       "      <td>19542986.0</td>\n",
       "      <td>1.128379e+10</td>\n",
       "      <td>NaN</td>\n",
       "      <td>NaN</td>\n",
       "      <td>NaN</td>\n",
       "      <td>NaN</td>\n",
       "      <td>...</td>\n",
       "      <td>NaN</td>\n",
       "      <td>0.0</td>\n",
       "      <td>NaN</td>\n",
       "      <td>4.45</td>\n",
       "      <td>yes</td>\n",
       "      <td>yes</td>\n",
       "      <td>no</td>\n",
       "      <td>Asia</td>\n",
       "      <td>577.383256</td>\n",
       "      <td>low-income</td>\n",
       "    </tr>\n",
       "    <tr>\n",
       "      <th>1</th>\n",
       "      <td>1</td>\n",
       "      <td>Afghanistan</td>\n",
       "      <td>2001</td>\n",
       "      <td>AFG</td>\n",
       "      <td>19688634.0</td>\n",
       "      <td>1.102127e+10</td>\n",
       "      <td>NaN</td>\n",
       "      <td>NaN</td>\n",
       "      <td>NaN</td>\n",
       "      <td>NaN</td>\n",
       "      <td>...</td>\n",
       "      <td>NaN</td>\n",
       "      <td>0.0</td>\n",
       "      <td>NaN</td>\n",
       "      <td>9.29</td>\n",
       "      <td>yes</td>\n",
       "      <td>yes</td>\n",
       "      <td>no</td>\n",
       "      <td>Asia</td>\n",
       "      <td>559.778453</td>\n",
       "      <td>low-income</td>\n",
       "    </tr>\n",
       "    <tr>\n",
       "      <th>2</th>\n",
       "      <td>2</td>\n",
       "      <td>Afghanistan</td>\n",
       "      <td>2002</td>\n",
       "      <td>AFG</td>\n",
       "      <td>21000258.0</td>\n",
       "      <td>1.880487e+10</td>\n",
       "      <td>NaN</td>\n",
       "      <td>NaN</td>\n",
       "      <td>NaN</td>\n",
       "      <td>NaN</td>\n",
       "      <td>...</td>\n",
       "      <td>NaN</td>\n",
       "      <td>0.0</td>\n",
       "      <td>NaN</td>\n",
       "      <td>14.13</td>\n",
       "      <td>yes</td>\n",
       "      <td>yes</td>\n",
       "      <td>no</td>\n",
       "      <td>Asia</td>\n",
       "      <td>895.459054</td>\n",
       "      <td>low-income</td>\n",
       "    </tr>\n",
       "    <tr>\n",
       "      <th>3</th>\n",
       "      <td>3</td>\n",
       "      <td>Afghanistan</td>\n",
       "      <td>2003</td>\n",
       "      <td>AFG</td>\n",
       "      <td>22645136.0</td>\n",
       "      <td>2.107434e+10</td>\n",
       "      <td>NaN</td>\n",
       "      <td>NaN</td>\n",
       "      <td>NaN</td>\n",
       "      <td>NaN</td>\n",
       "      <td>...</td>\n",
       "      <td>NaN</td>\n",
       "      <td>0.0</td>\n",
       "      <td>NaN</td>\n",
       "      <td>18.97</td>\n",
       "      <td>yes</td>\n",
       "      <td>yes</td>\n",
       "      <td>no</td>\n",
       "      <td>Asia</td>\n",
       "      <td>930.634461</td>\n",
       "      <td>low-income</td>\n",
       "    </tr>\n",
       "    <tr>\n",
       "      <th>4</th>\n",
       "      <td>4</td>\n",
       "      <td>Afghanistan</td>\n",
       "      <td>2004</td>\n",
       "      <td>AFG</td>\n",
       "      <td>23553554.0</td>\n",
       "      <td>2.233257e+10</td>\n",
       "      <td>NaN</td>\n",
       "      <td>NaN</td>\n",
       "      <td>NaN</td>\n",
       "      <td>NaN</td>\n",
       "      <td>...</td>\n",
       "      <td>NaN</td>\n",
       "      <td>0.0</td>\n",
       "      <td>NaN</td>\n",
       "      <td>23.81</td>\n",
       "      <td>yes</td>\n",
       "      <td>yes</td>\n",
       "      <td>no</td>\n",
       "      <td>Asia</td>\n",
       "      <td>948.161439</td>\n",
       "      <td>low-income</td>\n",
       "    </tr>\n",
       "  </tbody>\n",
       "</table>\n",
       "<p>5 rows × 137 columns</p>\n",
       "</div>"
      ],
      "text/plain": [
       "   Unnamed: 0      country  year iso_code  population           gdp  \\\n",
       "0           0  Afghanistan  2000      AFG  19542986.0  1.128379e+10   \n",
       "1           1  Afghanistan  2001      AFG  19688634.0  1.102127e+10   \n",
       "2           2  Afghanistan  2002      AFG  21000258.0  1.880487e+10   \n",
       "3           3  Afghanistan  2003      AFG  22645136.0  2.107434e+10   \n",
       "4           4  Afghanistan  2004      AFG  23553554.0  2.233257e+10   \n",
       "\n",
       "   biofuel_cons_change_pct  biofuel_cons_change_twh  biofuel_cons_per_capita  \\\n",
       "0                      NaN                      NaN                      NaN   \n",
       "1                      NaN                      NaN                      NaN   \n",
       "2                      NaN                      NaN                      NaN   \n",
       "3                      NaN                      NaN                      NaN   \n",
       "4                      NaN                      NaN                      NaN   \n",
       "\n",
       "   biofuel_consumption  ...  wind_energy_per_capita  wind_share_elec  \\\n",
       "0                  NaN  ...                     NaN              0.0   \n",
       "1                  NaN  ...                     NaN              0.0   \n",
       "2                  NaN  ...                     NaN              0.0   \n",
       "3                  NaN  ...                     NaN              0.0   \n",
       "4                  NaN  ...                     NaN              0.0   \n",
       "\n",
       "   wind_share_energy  electrification_rate  fossils?  renewables?  nuclear?  \\\n",
       "0                NaN                  4.45       yes          yes        no   \n",
       "1                NaN                  9.29       yes          yes        no   \n",
       "2                NaN                 14.13       yes          yes        no   \n",
       "3                NaN                 18.97       yes          yes        no   \n",
       "4                NaN                 23.81       yes          yes        no   \n",
       "\n",
       "   continent  gdp_per_capita  income_group  \n",
       "0       Asia      577.383256    low-income  \n",
       "1       Asia      559.778453    low-income  \n",
       "2       Asia      895.459054    low-income  \n",
       "3       Asia      930.634461    low-income  \n",
       "4       Asia      948.161439    low-income  \n",
       "\n",
       "[5 rows x 137 columns]"
      ]
     },
     "execution_count": 4,
     "metadata": {},
     "output_type": "execute_result"
    }
   ],
   "source": [
    "df.head()"
   ]
  },
  {
   "cell_type": "code",
   "execution_count": 6,
   "id": "de3497fd",
   "metadata": {},
   "outputs": [],
   "source": [
    "# drop 'Unnamed: 0' column\n",
    "df = df.drop(columns = ['Unnamed: 0'])"
   ]
  },
  {
   "cell_type": "code",
   "execution_count": 9,
   "id": "af041e2f",
   "metadata": {},
   "outputs": [
    {
     "data": {
      "text/plain": [
       "Index(['country', 'year', 'iso_code', 'population', 'gdp',\n",
       "       'biofuel_cons_change_pct', 'biofuel_cons_change_twh',\n",
       "       'biofuel_cons_per_capita', 'biofuel_consumption',\n",
       "       'biofuel_elec_per_capita',\n",
       "       ...\n",
       "       'wind_energy_per_capita', 'wind_share_elec', 'wind_share_energy',\n",
       "       'electrification_rate', 'fossils?', 'renewables?', 'nuclear?',\n",
       "       'continent', 'gdp_per_capita', 'income_group'],\n",
       "      dtype='object', length=136)"
      ]
     },
     "execution_count": 9,
     "metadata": {},
     "output_type": "execute_result"
    }
   ],
   "source": [
    "df.columns"
   ]
  },
  {
   "cell_type": "code",
   "execution_count": 7,
   "id": "a77bd69b",
   "metadata": {},
   "outputs": [
    {
     "data": {
      "text/html": [
       "<div>\n",
       "<style scoped>\n",
       "    .dataframe tbody tr th:only-of-type {\n",
       "        vertical-align: middle;\n",
       "    }\n",
       "\n",
       "    .dataframe tbody tr th {\n",
       "        vertical-align: top;\n",
       "    }\n",
       "\n",
       "    .dataframe thead th {\n",
       "        text-align: right;\n",
       "    }\n",
       "</style>\n",
       "<table border=\"1\" class=\"dataframe\">\n",
       "  <thead>\n",
       "    <tr style=\"text-align: right;\">\n",
       "      <th></th>\n",
       "      <th>country</th>\n",
       "      <th>year</th>\n",
       "      <th>iso_code</th>\n",
       "      <th>population</th>\n",
       "      <th>gdp</th>\n",
       "      <th>biofuel_cons_change_pct</th>\n",
       "      <th>biofuel_cons_change_twh</th>\n",
       "      <th>biofuel_cons_per_capita</th>\n",
       "      <th>biofuel_consumption</th>\n",
       "      <th>biofuel_elec_per_capita</th>\n",
       "      <th>...</th>\n",
       "      <th>wind_energy_per_capita</th>\n",
       "      <th>wind_share_elec</th>\n",
       "      <th>wind_share_energy</th>\n",
       "      <th>electrification_rate</th>\n",
       "      <th>fossils?</th>\n",
       "      <th>renewables?</th>\n",
       "      <th>nuclear?</th>\n",
       "      <th>continent</th>\n",
       "      <th>gdp_per_capita</th>\n",
       "      <th>income_group</th>\n",
       "    </tr>\n",
       "  </thead>\n",
       "  <tbody>\n",
       "    <tr>\n",
       "      <th>0</th>\n",
       "      <td>Afghanistan</td>\n",
       "      <td>2000</td>\n",
       "      <td>AFG</td>\n",
       "      <td>19542986.0</td>\n",
       "      <td>1.128379e+10</td>\n",
       "      <td>NaN</td>\n",
       "      <td>NaN</td>\n",
       "      <td>NaN</td>\n",
       "      <td>NaN</td>\n",
       "      <td>0.0</td>\n",
       "      <td>...</td>\n",
       "      <td>NaN</td>\n",
       "      <td>0.0</td>\n",
       "      <td>NaN</td>\n",
       "      <td>4.45</td>\n",
       "      <td>yes</td>\n",
       "      <td>yes</td>\n",
       "      <td>no</td>\n",
       "      <td>Asia</td>\n",
       "      <td>577.383256</td>\n",
       "      <td>low-income</td>\n",
       "    </tr>\n",
       "    <tr>\n",
       "      <th>1</th>\n",
       "      <td>Afghanistan</td>\n",
       "      <td>2001</td>\n",
       "      <td>AFG</td>\n",
       "      <td>19688634.0</td>\n",
       "      <td>1.102127e+10</td>\n",
       "      <td>NaN</td>\n",
       "      <td>NaN</td>\n",
       "      <td>NaN</td>\n",
       "      <td>NaN</td>\n",
       "      <td>0.0</td>\n",
       "      <td>...</td>\n",
       "      <td>NaN</td>\n",
       "      <td>0.0</td>\n",
       "      <td>NaN</td>\n",
       "      <td>9.29</td>\n",
       "      <td>yes</td>\n",
       "      <td>yes</td>\n",
       "      <td>no</td>\n",
       "      <td>Asia</td>\n",
       "      <td>559.778453</td>\n",
       "      <td>low-income</td>\n",
       "    </tr>\n",
       "    <tr>\n",
       "      <th>2</th>\n",
       "      <td>Afghanistan</td>\n",
       "      <td>2002</td>\n",
       "      <td>AFG</td>\n",
       "      <td>21000258.0</td>\n",
       "      <td>1.880487e+10</td>\n",
       "      <td>NaN</td>\n",
       "      <td>NaN</td>\n",
       "      <td>NaN</td>\n",
       "      <td>NaN</td>\n",
       "      <td>0.0</td>\n",
       "      <td>...</td>\n",
       "      <td>NaN</td>\n",
       "      <td>0.0</td>\n",
       "      <td>NaN</td>\n",
       "      <td>14.13</td>\n",
       "      <td>yes</td>\n",
       "      <td>yes</td>\n",
       "      <td>no</td>\n",
       "      <td>Asia</td>\n",
       "      <td>895.459054</td>\n",
       "      <td>low-income</td>\n",
       "    </tr>\n",
       "    <tr>\n",
       "      <th>3</th>\n",
       "      <td>Afghanistan</td>\n",
       "      <td>2003</td>\n",
       "      <td>AFG</td>\n",
       "      <td>22645136.0</td>\n",
       "      <td>2.107434e+10</td>\n",
       "      <td>NaN</td>\n",
       "      <td>NaN</td>\n",
       "      <td>NaN</td>\n",
       "      <td>NaN</td>\n",
       "      <td>0.0</td>\n",
       "      <td>...</td>\n",
       "      <td>NaN</td>\n",
       "      <td>0.0</td>\n",
       "      <td>NaN</td>\n",
       "      <td>18.97</td>\n",
       "      <td>yes</td>\n",
       "      <td>yes</td>\n",
       "      <td>no</td>\n",
       "      <td>Asia</td>\n",
       "      <td>930.634461</td>\n",
       "      <td>low-income</td>\n",
       "    </tr>\n",
       "    <tr>\n",
       "      <th>4</th>\n",
       "      <td>Afghanistan</td>\n",
       "      <td>2004</td>\n",
       "      <td>AFG</td>\n",
       "      <td>23553554.0</td>\n",
       "      <td>2.233257e+10</td>\n",
       "      <td>NaN</td>\n",
       "      <td>NaN</td>\n",
       "      <td>NaN</td>\n",
       "      <td>NaN</td>\n",
       "      <td>0.0</td>\n",
       "      <td>...</td>\n",
       "      <td>NaN</td>\n",
       "      <td>0.0</td>\n",
       "      <td>NaN</td>\n",
       "      <td>23.81</td>\n",
       "      <td>yes</td>\n",
       "      <td>yes</td>\n",
       "      <td>no</td>\n",
       "      <td>Asia</td>\n",
       "      <td>948.161439</td>\n",
       "      <td>low-income</td>\n",
       "    </tr>\n",
       "  </tbody>\n",
       "</table>\n",
       "<p>5 rows × 136 columns</p>\n",
       "</div>"
      ],
      "text/plain": [
       "       country  year iso_code  population           gdp  \\\n",
       "0  Afghanistan  2000      AFG  19542986.0  1.128379e+10   \n",
       "1  Afghanistan  2001      AFG  19688634.0  1.102127e+10   \n",
       "2  Afghanistan  2002      AFG  21000258.0  1.880487e+10   \n",
       "3  Afghanistan  2003      AFG  22645136.0  2.107434e+10   \n",
       "4  Afghanistan  2004      AFG  23553554.0  2.233257e+10   \n",
       "\n",
       "   biofuel_cons_change_pct  biofuel_cons_change_twh  biofuel_cons_per_capita  \\\n",
       "0                      NaN                      NaN                      NaN   \n",
       "1                      NaN                      NaN                      NaN   \n",
       "2                      NaN                      NaN                      NaN   \n",
       "3                      NaN                      NaN                      NaN   \n",
       "4                      NaN                      NaN                      NaN   \n",
       "\n",
       "   biofuel_consumption  biofuel_elec_per_capita  ...  wind_energy_per_capita  \\\n",
       "0                  NaN                      0.0  ...                     NaN   \n",
       "1                  NaN                      0.0  ...                     NaN   \n",
       "2                  NaN                      0.0  ...                     NaN   \n",
       "3                  NaN                      0.0  ...                     NaN   \n",
       "4                  NaN                      0.0  ...                     NaN   \n",
       "\n",
       "   wind_share_elec  wind_share_energy  electrification_rate  fossils?  \\\n",
       "0              0.0                NaN                  4.45       yes   \n",
       "1              0.0                NaN                  9.29       yes   \n",
       "2              0.0                NaN                 14.13       yes   \n",
       "3              0.0                NaN                 18.97       yes   \n",
       "4              0.0                NaN                 23.81       yes   \n",
       "\n",
       "   renewables?  nuclear?  continent  gdp_per_capita  income_group  \n",
       "0          yes        no       Asia      577.383256    low-income  \n",
       "1          yes        no       Asia      559.778453    low-income  \n",
       "2          yes        no       Asia      895.459054    low-income  \n",
       "3          yes        no       Asia      930.634461    low-income  \n",
       "4          yes        no       Asia      948.161439    low-income  \n",
       "\n",
       "[5 rows x 136 columns]"
      ]
     },
     "execution_count": 7,
     "metadata": {},
     "output_type": "execute_result"
    }
   ],
   "source": [
    "df.head()"
   ]
  },
  {
   "cell_type": "code",
   "execution_count": 10,
   "id": "d317a14d",
   "metadata": {},
   "outputs": [
    {
     "data": {
      "text/plain": [
       "(3130, 136)"
      ]
     },
     "execution_count": 10,
     "metadata": {},
     "output_type": "execute_result"
    }
   ],
   "source": [
    "df.shape"
   ]
  },
  {
   "cell_type": "code",
   "execution_count": 11,
   "id": "9adbface",
   "metadata": {},
   "outputs": [
    {
     "data": {
      "text/plain": [
       "country             0\n",
       "year                0\n",
       "iso_code            0\n",
       "population          0\n",
       "gdp                 0\n",
       "                 ... \n",
       "renewables?         0\n",
       "nuclear?          116\n",
       "continent           0\n",
       "gdp_per_capita      0\n",
       "income_group        0\n",
       "Length: 136, dtype: int64"
      ]
     },
     "execution_count": 11,
     "metadata": {},
     "output_type": "execute_result"
    }
   ],
   "source": [
    "# check for missing values\n",
    "df.isnull().sum()"
   ]
  },
  {
   "cell_type": "markdown",
   "id": "59cdd716",
   "metadata": {},
   "source": [
    "#### We have missing values for the 'nuclear?' column, which checks the existence of nuclear powerplants in a country. This column has no relevance for the analysis at hand and can be left as it is. "
   ]
  },
  {
   "cell_type": "code",
   "execution_count": 15,
   "id": "fe77009f",
   "metadata": {},
   "outputs": [],
   "source": [
    "# check for duplicates\n",
    "dups = df.duplicated()"
   ]
  },
  {
   "cell_type": "code",
   "execution_count": 16,
   "id": "9e379f97",
   "metadata": {},
   "outputs": [
    {
     "data": {
      "text/plain": [
       "(3130,)"
      ]
     },
     "execution_count": 16,
     "metadata": {},
     "output_type": "execute_result"
    }
   ],
   "source": [
    "dups.shape"
   ]
  },
  {
   "cell_type": "markdown",
   "id": "25b8d57f",
   "metadata": {},
   "source": [
    "#### There are no duplicates in the dataframe"
   ]
  },
  {
   "cell_type": "code",
   "execution_count": 18,
   "id": "7883fdf6",
   "metadata": {},
   "outputs": [
    {
     "data": {
      "text/plain": [
       "<Axes: xlabel='carbon_intensity_elec', ylabel='Density'>"
      ]
     },
     "execution_count": 18,
     "metadata": {},
     "output_type": "execute_result"
    },
    {
     "data": {
      "image/png": "[encoded data removed]",
      "text/plain": [
       "<Figure size 640x480 with 1 Axes>"
      ]
     },
     "metadata": {},
     "output_type": "display_data"
    }
   ],
   "source": [
    "# check for extreme values\n",
    "sns.distplot(df['carbon_intensity_elec'], bins = 25)"
   ]
  },
  {
   "cell_type": "markdown",
   "id": "f401483b",
   "metadata": {},
   "source": [
    "#### There are no extreme values"
   ]
  },
  {
   "cell_type": "code",
   "execution_count": 17,
   "id": "36c0c99b",
   "metadata": {},
   "outputs": [
    {
     "data": {
      "text/plain": [
       "count    3130.000000\n",
       "mean      412.324743\n",
       "std       220.463963\n",
       "min         0.000000\n",
       "25%       232.786000\n",
       "50%       459.627000\n",
       "75%       593.664250\n",
       "max       827.586000\n",
       "Name: carbon_intensity_elec, dtype: float64"
      ]
     },
     "execution_count": 17,
     "metadata": {},
     "output_type": "execute_result"
    }
   ],
   "source": [
    "# check some basic stat for the 'carbon_intensity_elec' column\n",
    "df['carbon_intensity_elec'].describe()"
   ]
  },
  {
   "cell_type": "code",
   "execution_count": 27,
   "id": "f47415c9",
   "metadata": {},
   "outputs": [
    {
     "data": {
      "image/png": "[encoded data removed]",
      "text/plain": [
       "<Figure size 640x480 with 1 Axes>"
      ]
     },
     "metadata": {},
     "output_type": "display_data"
    }
   ],
   "source": [
    "# scatterplot of 'fossil_electricity' vs 'greenhouse_gas_emissions'\n",
    "df.plot(x = 'fossil_electricity', y = 'greenhouse_gas_emissions', style = 'o')\n",
    "plt.title ('fossil fuels vs greenhouse gas emissions')\n",
    "plt.xlabel ('fossil_electricity')\n",
    "plt.ylabel ('greenhouse_gas_emissions')\n",
    "plt.show()"
   ]
  },
  {
   "cell_type": "markdown",
   "id": "00447c32",
   "metadata": {},
   "source": [
    "#### This result is expected as the fossil fuels are the cause for greenhouse gas emissions"
   ]
  },
  {
   "cell_type": "code",
   "execution_count": 66,
   "id": "a85c0ab3",
   "metadata": {},
   "outputs": [
    {
     "data": {
      "image/png": "[encoded data removed]",
      "text/plain": [
       "<Figure size 640x480 with 1 Axes>"
      ]
     },
     "metadata": {},
     "output_type": "display_data"
    }
   ],
   "source": [
    "# scatterplot of 'gdp_per_capita' vs 'greenhouse_gas_emissions'\n",
    "df.plot(x = 'renewables_electricity', y = 'fossil_electricity',  style = 'o')\n",
    "plt.title ('Electricity from renewables vs fossil fuel ')\n",
    "plt.xlabel ('renewables_electricity')\n",
    "plt.ylabel ('fossil_electricity')\n",
    "plt.show()"
   ]
  },
  {
   "cell_type": "markdown",
   "id": "ab698836",
   "metadata": {},
   "source": [
    "#### This result is worrisome as it shows that increase in renewables seems not be compensated by a decrease in fossil fuels, or in other words, in the last 19 years, more renewables didnot translate to less greenhouse gas emissions."
   ]
  },
  {
   "cell_type": "code",
   "execution_count": 56,
   "id": "6080aa7b",
   "metadata": {},
   "outputs": [
    {
     "data": {
      "image/png": "[encoded data removed]",
      "text/plain": [
       "<Figure size 640x480 with 1 Axes>"
      ]
     },
     "metadata": {},
     "output_type": "display_data"
    }
   ],
   "source": [
    "# scatterplot of 'gdp' vs 'greenhouse_gas_emissions'\n",
    "df.plot(x = 'gdp', y = 'greenhouse_gas_emissions', style = 'o')\n",
    "plt.title ('gdp vs greenhouse gas emissions')\n",
    "plt.xlabel ('gdp')\n",
    "plt.ylabel ('greenhouse_gas_emissions')\n",
    "plt.show()"
   ]
  },
  {
   "cell_type": "markdown",
   "id": "b8f9bd19",
   "metadata": {},
   "source": [
    "#### This plot seems to convey that increase in gdp leads to increase in greenhouse gas emissions in most cases"
   ]
  },
  {
   "cell_type": "markdown",
   "id": "a529a332",
   "metadata": {},
   "source": [
    "### 3. Hypotheses"
   ]
  },
  {
   "cell_type": "markdown",
   "id": "ca4a6afa",
   "metadata": {},
   "source": [
    "#### The following two hypotheses will be tested in this exercise:\n",
    " 1. The higher the gdp, the higher the greenhouse gas emissions\n",
    " 2. The more electricity is generated from renewables, the more it is also generated from fossil fuels"
   ]
  },
  {
   "cell_type": "markdown",
   "id": "22070bf7",
   "metadata": {},
   "source": [
    "#### 3.1 Hypothesis 1"
   ]
  },
  {
   "cell_type": "code",
   "execution_count": 67,
   "id": "8e93932c",
   "metadata": {},
   "outputs": [],
   "source": [
    "# Reshape the variables into NumPy arrays and put them into separate objects \n",
    "\n",
    "X = df['gdp'].values.reshape(-1,1)\n",
    "y = df['greenhouse_gas_emissions'].values.reshape(-1,1)"
   ]
  },
  {
   "cell_type": "code",
   "execution_count": 68,
   "id": "887b3570",
   "metadata": {},
   "outputs": [
    {
     "data": {
      "text/plain": [
       "array([[1.12837929e+10],\n",
       "       [1.10212731e+10],\n",
       "       [1.88048712e+10],\n",
       "       ...,\n",
       "       [2.09617940e+10],\n",
       "       [2.19478364e+10],\n",
       "       [2.27153531e+10]])"
      ]
     },
     "execution_count": 68,
     "metadata": {},
     "output_type": "execute_result"
    }
   ],
   "source": [
    "X"
   ]
  },
  {
   "cell_type": "code",
   "execution_count": 69,
   "id": "271de591",
   "metadata": {},
   "outputs": [
    {
     "data": {
      "text/plain": [
       "array([[0.12],\n",
       "       [0.07],\n",
       "       [0.1 ],\n",
       "       ...,\n",
       "       [3.02],\n",
       "       [2.67],\n",
       "       [3.27]])"
      ]
     },
     "execution_count": 69,
     "metadata": {},
     "output_type": "execute_result"
    }
   ],
   "source": [
    "y"
   ]
  },
  {
   "cell_type": "code",
   "execution_count": 70,
   "id": "c5825aa8",
   "metadata": {},
   "outputs": [],
   "source": [
    "# split the data into training and test set\n",
    "X_train, X_test, y_train, y_test = train_test_split(X, y, test_size=0.3, random_state=0)"
   ]
  },
  {
   "cell_type": "markdown",
   "id": "149ce241",
   "metadata": {},
   "source": [
    "#### 3.2 Hypothesis 2"
   ]
  },
  {
   "cell_type": "code",
   "execution_count": 71,
   "id": "4d13de9d",
   "metadata": {},
   "outputs": [],
   "source": [
    "# Reshape the variables into NumPy arrays and put them into separate objects \n",
    "\n",
    "B = df['renewables_electricity'].values.reshape(-1,1) # independent variable\n",
    "a = df['fossil_electricity'].values.reshape(-1,1) # dependent variable"
   ]
  },
  {
   "cell_type": "code",
   "execution_count": 72,
   "id": "27ff1aaa",
   "metadata": {},
   "outputs": [
    {
     "data": {
      "text/plain": [
       "array([[0.31],\n",
       "       [0.5 ],\n",
       "       [0.56],\n",
       "       ...,\n",
       "       [3.32],\n",
       "       [4.3 ],\n",
       "       [5.46]])"
      ]
     },
     "execution_count": 72,
     "metadata": {},
     "output_type": "execute_result"
    }
   ],
   "source": [
    "B"
   ]
  },
  {
   "cell_type": "code",
   "execution_count": 73,
   "id": "d2b1a8ae",
   "metadata": {},
   "outputs": [
    {
     "data": {
      "text/plain": [
       "array([[0.16],\n",
       "       [0.09],\n",
       "       [0.13],\n",
       "       ...,\n",
       "       [3.5 ],\n",
       "       [3.05],\n",
       "       [3.73]])"
      ]
     },
     "execution_count": 73,
     "metadata": {},
     "output_type": "execute_result"
    }
   ],
   "source": [
    "a"
   ]
  },
  {
   "cell_type": "code",
   "execution_count": 74,
   "id": "1cac0697",
   "metadata": {},
   "outputs": [],
   "source": [
    "# split the data into training and test set\n",
    "B_train, B_test, a_train, a_test = train_test_split(B, a, test_size=0.3, random_state=0)"
   ]
  },
  {
   "cell_type": "markdown",
   "id": "cffb943c",
   "metadata": {},
   "source": [
    "### 4. Regression Analysis"
   ]
  },
  {
   "cell_type": "markdown",
   "id": "149a7b26",
   "metadata": {},
   "source": [
    "#### 4.1 gdp vs greenhouse gas emission"
   ]
  },
  {
   "cell_type": "code",
   "execution_count": 75,
   "id": "88694403",
   "metadata": {},
   "outputs": [],
   "source": [
    "# create a regression object.\n",
    "regression = LinearRegression()  "
   ]
  },
  {
   "cell_type": "code",
   "execution_count": 76,
   "id": "980a9671",
   "metadata": {},
   "outputs": [
    {
     "data": {
      "text/html": [
       "<style>#sk-container-id-1 {color: black;}#sk-container-id-1 pre{padding: 0;}#sk-container-id-1 div.sk-toggleable {background-color: white;}#sk-container-id-1 label.sk-toggleable__label {cursor: pointer;display: block;width: 100%;margin-bottom: 0;padding: 0.3em;box-sizing: border-box;text-align: center;}#sk-container-id-1 label.sk-toggleable__label-arrow:before {content: \"▸\";float: left;margin-right: 0.25em;color: #696969;}#sk-container-id-1 label.sk-toggleable__label-arrow:hover:before {color: black;}#sk-container-id-1 div.sk-estimator:hover label.sk-toggleable__label-arrow:before {color: black;}#sk-container-id-1 div.sk-toggleable__content {max-height: 0;max-width: 0;overflow: hidden;text-align: left;background-color: #f0f8ff;}#sk-container-id-1 div.sk-toggleable__content pre {margin: 0.2em;color: black;border-radius: 0.25em;background-color: #f0f8ff;}#sk-container-id-1 input.sk-toggleable__control:checked~div.sk-toggleable__content {max-height: 200px;max-width: 100%;overflow: auto;}#sk-container-id-1 input.sk-toggleable__control:checked~label.sk-toggleable__label-arrow:before {content: \"▾\";}#sk-container-id-1 div.sk-estimator input.sk-toggleable__control:checked~label.sk-toggleable__label {background-color: #d4ebff;}#sk-container-id-1 div.sk-label input.sk-toggleable__control:checked~label.sk-toggleable__label {background-color: #d4ebff;}#sk-container-id-1 input.sk-hidden--visually {border: 0;clip: rect(1px 1px 1px 1px);clip: rect(1px, 1px, 1px, 1px);height: 1px;margin: -1px;overflow: hidden;padding: 0;position: absolute;width: 1px;}#sk-container-id-1 div.sk-estimator {font-family: monospace;background-color: #f0f8ff;border: 1px dotted black;border-radius: 0.25em;box-sizing: border-box;margin-bottom: 0.5em;}#sk-container-id-1 div.sk-estimator:hover {background-color: #d4ebff;}#sk-container-id-1 div.sk-parallel-item::after {content: \"\";width: 100%;border-bottom: 1px solid gray;flex-grow: 1;}#sk-container-id-1 div.sk-label:hover label.sk-toggleable__label {background-color: #d4ebff;}#sk-container-id-1 div.sk-serial::before {content: \"\";position: absolute;border-left: 1px solid gray;box-sizing: border-box;top: 0;bottom: 0;left: 50%;z-index: 0;}#sk-container-id-1 div.sk-serial {display: flex;flex-direction: column;align-items: center;background-color: white;padding-right: 0.2em;padding-left: 0.2em;position: relative;}#sk-container-id-1 div.sk-item {position: relative;z-index: 1;}#sk-container-id-1 div.sk-parallel {display: flex;align-items: stretch;justify-content: center;background-color: white;position: relative;}#sk-container-id-1 div.sk-item::before, #sk-container-id-1 div.sk-parallel-item::before {content: \"\";position: absolute;border-left: 1px solid gray;box-sizing: border-box;top: 0;bottom: 0;left: 50%;z-index: -1;}#sk-container-id-1 div.sk-parallel-item {display: flex;flex-direction: column;z-index: 1;position: relative;background-color: white;}#sk-container-id-1 div.sk-parallel-item:first-child::after {align-self: flex-end;width: 50%;}#sk-container-id-1 div.sk-parallel-item:last-child::after {align-self: flex-start;width: 50%;}#sk-container-id-1 div.sk-parallel-item:only-child::after {width: 0;}#sk-container-id-1 div.sk-dashed-wrapped {border: 1px dashed gray;margin: 0 0.4em 0.5em 0.4em;box-sizing: border-box;padding-bottom: 0.4em;background-color: white;}#sk-container-id-1 div.sk-label label {font-family: monospace;font-weight: bold;display: inline-block;line-height: 1.2em;}#sk-container-id-1 div.sk-label-container {text-align: center;}#sk-container-id-1 div.sk-container {/* jupyter's `normalize.less` sets `[hidden] { display: none; }` but bootstrap.min.css set `[hidden] { display: none !important; }` so we also need the `!important` here to be able to override the default hidden behavior on the sphinx rendered scikit-learn.org. See: https://github.com/scikit-learn/scikit-learn/issues/21755 */display: inline-block !important;position: relative;}#sk-container-id-1 div.sk-text-repr-fallback {display: none;}</style><div id=\"sk-container-id-1\" class=\"sk-top-container\"><div class=\"sk-text-repr-fallback\"><pre>LinearRegression()</pre><b>In a Jupyter environment, please rerun this cell to show the HTML representation or trust the notebook. <br />On GitHub, the HTML representation is unable to render, please try loading this page with nbviewer.org.</b></div><div class=\"sk-container\" hidden><div class=\"sk-item\"><div class=\"sk-estimator sk-toggleable\"><input class=\"sk-toggleable__control sk-hidden--visually\" id=\"sk-estimator-id-1\" type=\"checkbox\" checked><label for=\"sk-estimator-id-1\" class=\"sk-toggleable__label sk-toggleable__label-arrow\">LinearRegression</label><div class=\"sk-toggleable__content\"><pre>LinearRegression()</pre></div></div></div></div></div>"
      ],
      "text/plain": [
       "LinearRegression()"
      ]
     },
     "execution_count": 76,
     "metadata": {},
     "output_type": "execute_result"
    }
   ],
   "source": [
    "# fit the regression object onto the training set.\n",
    "regression.fit(X_train, y_train)"
   ]
  },
  {
   "cell_type": "code",
   "execution_count": 77,
   "id": "ec2ebc8c",
   "metadata": {},
   "outputs": [],
   "source": [
    "# predict the values of y using X.\n",
    "y_predicted = regression.predict(X_test)"
   ]
  },
  {
   "cell_type": "code",
   "execution_count": 92,
   "id": "0e0d3e0a",
   "metadata": {},
   "outputs": [
    {
     "data": {
      "image/png": "[encoded data removed]",
      "text/plain": [
       "<Figure size 640x480 with 1 Axes>"
      ]
     },
     "metadata": {},
     "output_type": "display_data"
    }
   ],
   "source": [
    "# create a plot that shows the regression line from the model on the test set.\n",
    "plot_test = plt\n",
    "plot_test.scatter(X_test, y_test, color='green', s = 15)\n",
    "plot_test.plot(X_test, y_predicted, color='red', linewidth =3)\n",
    "plot_test.title('gdp vs greenhouse gas emissions (test set)')\n",
    "plot_test.xlabel('gdp')\n",
    "plot_test.ylabel('greenhouse gas emissions')\n",
    "plot_test.show()"
   ]
  },
  {
   "cell_type": "code",
   "execution_count": 80,
   "id": "50dd3b21",
   "metadata": {
    "scrolled": true
   },
   "outputs": [
    {
     "name": "stdout",
     "output_type": "stream",
     "text": [
      "Slope: [[1.33202898e-10]]\n",
      "Mean squared error:  17362.00652792915\n",
      "R2 score:  0.8655551048733284\n"
     ]
    }
   ],
   "source": [
    "# create objects that contain the model summary statistics and print the result.\n",
    "rmse = mean_squared_error(y_test, y_predicted) \n",
    "r2 = r2_score(y_test, y_predicted) \n",
    "print('Slope:' ,regression.coef_)\n",
    "print('Mean squared error: ', rmse)\n",
    "print('R2 score: ', r2)"
   ]
  },
  {
   "cell_type": "code",
   "execution_count": 114,
   "id": "3ebce94f",
   "metadata": {},
   "outputs": [
    {
     "data": {
      "text/html": [
       "<div>\n",
       "<style scoped>\n",
       "    .dataframe tbody tr th:only-of-type {\n",
       "        vertical-align: middle;\n",
       "    }\n",
       "\n",
       "    .dataframe tbody tr th {\n",
       "        vertical-align: top;\n",
       "    }\n",
       "\n",
       "    .dataframe thead th {\n",
       "        text-align: right;\n",
       "    }\n",
       "</style>\n",
       "<table border=\"1\" class=\"dataframe\">\n",
       "  <thead>\n",
       "    <tr style=\"text-align: right;\">\n",
       "      <th></th>\n",
       "      <th>Actual</th>\n",
       "      <th>Predicted</th>\n",
       "    </tr>\n",
       "  </thead>\n",
       "  <tbody>\n",
       "    <tr>\n",
       "      <th>0</th>\n",
       "      <td>3.71</td>\n",
       "      <td>-12.019816</td>\n",
       "    </tr>\n",
       "    <tr>\n",
       "      <th>1</th>\n",
       "      <td>0.05</td>\n",
       "      <td>-13.674985</td>\n",
       "    </tr>\n",
       "    <tr>\n",
       "      <th>2</th>\n",
       "      <td>11.11</td>\n",
       "      <td>29.504553</td>\n",
       "    </tr>\n",
       "    <tr>\n",
       "      <th>3</th>\n",
       "      <td>12.69</td>\n",
       "      <td>124.198226</td>\n",
       "    </tr>\n",
       "    <tr>\n",
       "      <th>4</th>\n",
       "      <td>2.21</td>\n",
       "      <td>-7.252694</td>\n",
       "    </tr>\n",
       "    <tr>\n",
       "      <th>5</th>\n",
       "      <td>2.06</td>\n",
       "      <td>-6.791837</td>\n",
       "    </tr>\n",
       "    <tr>\n",
       "      <th>6</th>\n",
       "      <td>0.02</td>\n",
       "      <td>-13.443323</td>\n",
       "    </tr>\n",
       "    <tr>\n",
       "      <th>7</th>\n",
       "      <td>0.49</td>\n",
       "      <td>-10.178852</td>\n",
       "    </tr>\n",
       "    <tr>\n",
       "      <th>8</th>\n",
       "      <td>3.29</td>\n",
       "      <td>-11.535384</td>\n",
       "    </tr>\n",
       "    <tr>\n",
       "      <th>9</th>\n",
       "      <td>0.01</td>\n",
       "      <td>-13.894797</td>\n",
       "    </tr>\n",
       "    <tr>\n",
       "      <th>10</th>\n",
       "      <td>119.20</td>\n",
       "      <td>91.083853</td>\n",
       "    </tr>\n",
       "    <tr>\n",
       "      <th>11</th>\n",
       "      <td>1.28</td>\n",
       "      <td>-3.077942</td>\n",
       "    </tr>\n",
       "    <tr>\n",
       "      <th>12</th>\n",
       "      <td>19.34</td>\n",
       "      <td>6.036067</td>\n",
       "    </tr>\n",
       "    <tr>\n",
       "      <th>13</th>\n",
       "      <td>22.48</td>\n",
       "      <td>1.130204</td>\n",
       "    </tr>\n",
       "    <tr>\n",
       "      <th>14</th>\n",
       "      <td>10.17</td>\n",
       "      <td>-7.690019</td>\n",
       "    </tr>\n",
       "    <tr>\n",
       "      <th>15</th>\n",
       "      <td>0.15</td>\n",
       "      <td>-8.124277</td>\n",
       "    </tr>\n",
       "    <tr>\n",
       "      <th>16</th>\n",
       "      <td>2.78</td>\n",
       "      <td>-11.130433</td>\n",
       "    </tr>\n",
       "    <tr>\n",
       "      <th>17</th>\n",
       "      <td>0.21</td>\n",
       "      <td>-13.940868</td>\n",
       "    </tr>\n",
       "    <tr>\n",
       "      <th>18</th>\n",
       "      <td>130.65</td>\n",
       "      <td>214.146147</td>\n",
       "    </tr>\n",
       "    <tr>\n",
       "      <th>19</th>\n",
       "      <td>109.56</td>\n",
       "      <td>177.629904</td>\n",
       "    </tr>\n",
       "    <tr>\n",
       "      <th>20</th>\n",
       "      <td>114.81</td>\n",
       "      <td>51.123916</td>\n",
       "    </tr>\n",
       "    <tr>\n",
       "      <th>21</th>\n",
       "      <td>19.56</td>\n",
       "      <td>47.231328</td>\n",
       "    </tr>\n",
       "    <tr>\n",
       "      <th>22</th>\n",
       "      <td>0.19</td>\n",
       "      <td>-11.978360</td>\n",
       "    </tr>\n",
       "    <tr>\n",
       "      <th>23</th>\n",
       "      <td>0.50</td>\n",
       "      <td>-5.276083</td>\n",
       "    </tr>\n",
       "    <tr>\n",
       "      <th>24</th>\n",
       "      <td>10.09</td>\n",
       "      <td>-7.597110</td>\n",
       "    </tr>\n",
       "    <tr>\n",
       "      <th>25</th>\n",
       "      <td>42.78</td>\n",
       "      <td>54.361412</td>\n",
       "    </tr>\n",
       "    <tr>\n",
       "      <th>26</th>\n",
       "      <td>0.18</td>\n",
       "      <td>-11.133382</td>\n",
       "    </tr>\n",
       "    <tr>\n",
       "      <th>27</th>\n",
       "      <td>11.63</td>\n",
       "      <td>11.538146</td>\n",
       "    </tr>\n",
       "    <tr>\n",
       "      <th>28</th>\n",
       "      <td>0.51</td>\n",
       "      <td>-12.688161</td>\n",
       "    </tr>\n",
       "    <tr>\n",
       "      <th>29</th>\n",
       "      <td>20.05</td>\n",
       "      <td>8.342076</td>\n",
       "    </tr>\n",
       "    <tr>\n",
       "      <th>30</th>\n",
       "      <td>5.44</td>\n",
       "      <td>1.883067</td>\n",
       "    </tr>\n",
       "    <tr>\n",
       "      <th>31</th>\n",
       "      <td>70.80</td>\n",
       "      <td>79.879624</td>\n",
       "    </tr>\n",
       "    <tr>\n",
       "      <th>32</th>\n",
       "      <td>0.15</td>\n",
       "      <td>-13.399954</td>\n",
       "    </tr>\n",
       "    <tr>\n",
       "      <th>33</th>\n",
       "      <td>94.62</td>\n",
       "      <td>236.826604</td>\n",
       "    </tr>\n",
       "    <tr>\n",
       "      <th>34</th>\n",
       "      <td>2.09</td>\n",
       "      <td>-1.411099</td>\n",
       "    </tr>\n",
       "    <tr>\n",
       "      <th>35</th>\n",
       "      <td>1.31</td>\n",
       "      <td>-9.376115</td>\n",
       "    </tr>\n",
       "    <tr>\n",
       "      <th>36</th>\n",
       "      <td>3.48</td>\n",
       "      <td>-8.610272</td>\n",
       "    </tr>\n",
       "    <tr>\n",
       "      <th>37</th>\n",
       "      <td>15.71</td>\n",
       "      <td>44.085874</td>\n",
       "    </tr>\n",
       "    <tr>\n",
       "      <th>38</th>\n",
       "      <td>0.26</td>\n",
       "      <td>-13.920475</td>\n",
       "    </tr>\n",
       "    <tr>\n",
       "      <th>39</th>\n",
       "      <td>7.97</td>\n",
       "      <td>3.627625</td>\n",
       "    </tr>\n",
       "    <tr>\n",
       "      <th>40</th>\n",
       "      <td>126.61</td>\n",
       "      <td>75.137201</td>\n",
       "    </tr>\n",
       "    <tr>\n",
       "      <th>41</th>\n",
       "      <td>19.16</td>\n",
       "      <td>35.511204</td>\n",
       "    </tr>\n",
       "    <tr>\n",
       "      <th>42</th>\n",
       "      <td>48.51</td>\n",
       "      <td>64.930529</td>\n",
       "    </tr>\n",
       "    <tr>\n",
       "      <th>43</th>\n",
       "      <td>1.45</td>\n",
       "      <td>-12.270039</td>\n",
       "    </tr>\n",
       "    <tr>\n",
       "      <th>44</th>\n",
       "      <td>6.10</td>\n",
       "      <td>-9.754832</td>\n",
       "    </tr>\n",
       "    <tr>\n",
       "      <th>45</th>\n",
       "      <td>4.74</td>\n",
       "      <td>-7.424237</td>\n",
       "    </tr>\n",
       "    <tr>\n",
       "      <th>46</th>\n",
       "      <td>160.70</td>\n",
       "      <td>120.619064</td>\n",
       "    </tr>\n",
       "    <tr>\n",
       "      <th>47</th>\n",
       "      <td>3.64</td>\n",
       "      <td>-10.930575</td>\n",
       "    </tr>\n",
       "    <tr>\n",
       "      <th>48</th>\n",
       "      <td>12.22</td>\n",
       "      <td>17.376562</td>\n",
       "    </tr>\n",
       "    <tr>\n",
       "      <th>49</th>\n",
       "      <td>45.95</td>\n",
       "      <td>297.428594</td>\n",
       "    </tr>\n",
       "  </tbody>\n",
       "</table>\n",
       "</div>"
      ],
      "text/plain": [
       "    Actual   Predicted\n",
       "0     3.71  -12.019816\n",
       "1     0.05  -13.674985\n",
       "2    11.11   29.504553\n",
       "3    12.69  124.198226\n",
       "4     2.21   -7.252694\n",
       "5     2.06   -6.791837\n",
       "6     0.02  -13.443323\n",
       "7     0.49  -10.178852\n",
       "8     3.29  -11.535384\n",
       "9     0.01  -13.894797\n",
       "10  119.20   91.083853\n",
       "11    1.28   -3.077942\n",
       "12   19.34    6.036067\n",
       "13   22.48    1.130204\n",
       "14   10.17   -7.690019\n",
       "15    0.15   -8.124277\n",
       "16    2.78  -11.130433\n",
       "17    0.21  -13.940868\n",
       "18  130.65  214.146147\n",
       "19  109.56  177.629904\n",
       "20  114.81   51.123916\n",
       "21   19.56   47.231328\n",
       "22    0.19  -11.978360\n",
       "23    0.50   -5.276083\n",
       "24   10.09   -7.597110\n",
       "25   42.78   54.361412\n",
       "26    0.18  -11.133382\n",
       "27   11.63   11.538146\n",
       "28    0.51  -12.688161\n",
       "29   20.05    8.342076\n",
       "30    5.44    1.883067\n",
       "31   70.80   79.879624\n",
       "32    0.15  -13.399954\n",
       "33   94.62  236.826604\n",
       "34    2.09   -1.411099\n",
       "35    1.31   -9.376115\n",
       "36    3.48   -8.610272\n",
       "37   15.71   44.085874\n",
       "38    0.26  -13.920475\n",
       "39    7.97    3.627625\n",
       "40  126.61   75.137201\n",
       "41   19.16   35.511204\n",
       "42   48.51   64.930529\n",
       "43    1.45  -12.270039\n",
       "44    6.10   -9.754832\n",
       "45    4.74   -7.424237\n",
       "46  160.70  120.619064\n",
       "47    3.64  -10.930575\n",
       "48   12.22   17.376562\n",
       "49   45.95  297.428594"
      ]
     },
     "execution_count": 114,
     "metadata": {},
     "output_type": "execute_result"
    }
   ],
   "source": [
    "# create a dataframe comparing the actual and predicted values of y.\n",
    "data = pd.DataFrame({'Actual': y_test.flatten(), 'Predicted': y_predicted.flatten()})\n",
    "data.head(50)"
   ]
  },
  {
   "cell_type": "code",
   "execution_count": 86,
   "id": "90ee0e67",
   "metadata": {},
   "outputs": [],
   "source": [
    "# compare how the regression fits the training set \n",
    "y_predicted_train = regression.predict(X_train) "
   ]
  },
  {
   "cell_type": "code",
   "execution_count": 88,
   "id": "887d5ae2",
   "metadata": {},
   "outputs": [
    {
     "name": "stdout",
     "output_type": "stream",
     "text": [
      "Slope: [[1.33202898e-10]]\n",
      "Mean squared error:  5347.021367406203\n",
      "R2 score:  0.8853092487776227\n"
     ]
    }
   ],
   "source": [
    "rmse = mean_squared_error(y_train, y_predicted_train)\n",
    "r2 = r2_score(y_train, y_predicted_train)\n",
    "print('Slope:' ,regression.coef_)\n",
    "print('Mean squared error: ', rmse)\n",
    "print('R2 score: ', r2)"
   ]
  },
  {
   "cell_type": "code",
   "execution_count": 91,
   "id": "848b2595",
   "metadata": {},
   "outputs": [
    {
     "data": {
      "image/png": "[encoded data removed]",
      "text/plain": [
       "<Figure size 640x480 with 1 Axes>"
      ]
     },
     "metadata": {},
     "output_type": "display_data"
    }
   ],
   "source": [
    "# visualizing the training set results.\n",
    "plot_test = plt\n",
    "plot_test.scatter(X_train, y_train, color='black', s = 15)\n",
    "plot_test.plot(X_train, y_predicted_train, color='red', linewidth =3)\n",
    "plot_test.title('gdp vs greenhouse gas emissions (train set)')\n",
    "plot_test.xlabel('gdp')\n",
    "plot_test.ylabel('greenhouse gas emissions')\n",
    "plot_test.show()"
   ]
  },
  {
   "cell_type": "markdown",
   "id": "ef7893ea",
   "metadata": {},
   "source": [
    "#### Comment\n",
    "While the model has a value for R2 close to 1, its rmse value of 17362 is very high. Linear model is not a good predictor. This can also be confirmed by looking at the model's predicted values, which are very far from the actual values."
   ]
  },
  {
   "cell_type": "markdown",
   "id": "37a2204a",
   "metadata": {},
   "source": [
    "#### 4.2 renewables_electricity vs fossil_electricity"
   ]
  },
  {
   "cell_type": "code",
   "execution_count": 93,
   "id": "828037e4",
   "metadata": {},
   "outputs": [],
   "source": [
    "# create a regression object.\n",
    "regression2 = LinearRegression()  "
   ]
  },
  {
   "cell_type": "code",
   "execution_count": 94,
   "id": "4711cbdf",
   "metadata": {},
   "outputs": [
    {
     "data": {
      "text/html": [
       "<style>#sk-container-id-2 {color: black;}#sk-container-id-2 pre{padding: 0;}#sk-container-id-2 div.sk-toggleable {background-color: white;}#sk-container-id-2 label.sk-toggleable__label {cursor: pointer;display: block;width: 100%;margin-bottom: 0;padding: 0.3em;box-sizing: border-box;text-align: center;}#sk-container-id-2 label.sk-toggleable__label-arrow:before {content: \"▸\";float: left;margin-right: 0.25em;color: #696969;}#sk-container-id-2 label.sk-toggleable__label-arrow:hover:before {color: black;}#sk-container-id-2 div.sk-estimator:hover label.sk-toggleable__label-arrow:before {color: black;}#sk-container-id-2 div.sk-toggleable__content {max-height: 0;max-width: 0;overflow: hidden;text-align: left;background-color: #f0f8ff;}#sk-container-id-2 div.sk-toggleable__content pre {margin: 0.2em;color: black;border-radius: 0.25em;background-color: #f0f8ff;}#sk-container-id-2 input.sk-toggleable__control:checked~div.sk-toggleable__content {max-height: 200px;max-width: 100%;overflow: auto;}#sk-container-id-2 input.sk-toggleable__control:checked~label.sk-toggleable__label-arrow:before {content: \"▾\";}#sk-container-id-2 div.sk-estimator input.sk-toggleable__control:checked~label.sk-toggleable__label {background-color: #d4ebff;}#sk-container-id-2 div.sk-label input.sk-toggleable__control:checked~label.sk-toggleable__label {background-color: #d4ebff;}#sk-container-id-2 input.sk-hidden--visually {border: 0;clip: rect(1px 1px 1px 1px);clip: rect(1px, 1px, 1px, 1px);height: 1px;margin: -1px;overflow: hidden;padding: 0;position: absolute;width: 1px;}#sk-container-id-2 div.sk-estimator {font-family: monospace;background-color: #f0f8ff;border: 1px dotted black;border-radius: 0.25em;box-sizing: border-box;margin-bottom: 0.5em;}#sk-container-id-2 div.sk-estimator:hover {background-color: #d4ebff;}#sk-container-id-2 div.sk-parallel-item::after {content: \"\";width: 100%;border-bottom: 1px solid gray;flex-grow: 1;}#sk-container-id-2 div.sk-label:hover label.sk-toggleable__label {background-color: #d4ebff;}#sk-container-id-2 div.sk-serial::before {content: \"\";position: absolute;border-left: 1px solid gray;box-sizing: border-box;top: 0;bottom: 0;left: 50%;z-index: 0;}#sk-container-id-2 div.sk-serial {display: flex;flex-direction: column;align-items: center;background-color: white;padding-right: 0.2em;padding-left: 0.2em;position: relative;}#sk-container-id-2 div.sk-item {position: relative;z-index: 1;}#sk-container-id-2 div.sk-parallel {display: flex;align-items: stretch;justify-content: center;background-color: white;position: relative;}#sk-container-id-2 div.sk-item::before, #sk-container-id-2 div.sk-parallel-item::before {content: \"\";position: absolute;border-left: 1px solid gray;box-sizing: border-box;top: 0;bottom: 0;left: 50%;z-index: -1;}#sk-container-id-2 div.sk-parallel-item {display: flex;flex-direction: column;z-index: 1;position: relative;background-color: white;}#sk-container-id-2 div.sk-parallel-item:first-child::after {align-self: flex-end;width: 50%;}#sk-container-id-2 div.sk-parallel-item:last-child::after {align-self: flex-start;width: 50%;}#sk-container-id-2 div.sk-parallel-item:only-child::after {width: 0;}#sk-container-id-2 div.sk-dashed-wrapped {border: 1px dashed gray;margin: 0 0.4em 0.5em 0.4em;box-sizing: border-box;padding-bottom: 0.4em;background-color: white;}#sk-container-id-2 div.sk-label label {font-family: monospace;font-weight: bold;display: inline-block;line-height: 1.2em;}#sk-container-id-2 div.sk-label-container {text-align: center;}#sk-container-id-2 div.sk-container {/* jupyter's `normalize.less` sets `[hidden] { display: none; }` but bootstrap.min.css set `[hidden] { display: none !important; }` so we also need the `!important` here to be able to override the default hidden behavior on the sphinx rendered scikit-learn.org. See: https://github.com/scikit-learn/scikit-learn/issues/21755 */display: inline-block !important;position: relative;}#sk-container-id-2 div.sk-text-repr-fallback {display: none;}</style><div id=\"sk-container-id-2\" class=\"sk-top-container\"><div class=\"sk-text-repr-fallback\"><pre>LinearRegression()</pre><b>In a Jupyter environment, please rerun this cell to show the HTML representation or trust the notebook. <br />On GitHub, the HTML representation is unable to render, please try loading this page with nbviewer.org.</b></div><div class=\"sk-container\" hidden><div class=\"sk-item\"><div class=\"sk-estimator sk-toggleable\"><input class=\"sk-toggleable__control sk-hidden--visually\" id=\"sk-estimator-id-2\" type=\"checkbox\" checked><label for=\"sk-estimator-id-2\" class=\"sk-toggleable__label sk-toggleable__label-arrow\">LinearRegression</label><div class=\"sk-toggleable__content\"><pre>LinearRegression()</pre></div></div></div></div></div>"
      ],
      "text/plain": [
       "LinearRegression()"
      ]
     },
     "execution_count": 94,
     "metadata": {},
     "output_type": "execute_result"
    }
   ],
   "source": [
    "# fit the regression object onto the training set.\n",
    "regression2.fit(B_train, a_train)"
   ]
  },
  {
   "cell_type": "code",
   "execution_count": 95,
   "id": "608a2be2",
   "metadata": {},
   "outputs": [],
   "source": [
    "# predict the values of a using B.\n",
    "a_predicted = regression2.predict(B_test)"
   ]
  },
  {
   "cell_type": "code",
   "execution_count": 96,
   "id": "b0e6332b",
   "metadata": {},
   "outputs": [
    {
     "data": {
      "image/png": "[encoded data removed]",
      "text/plain": [
       "<Figure size 640x480 with 1 Axes>"
      ]
     },
     "metadata": {},
     "output_type": "display_data"
    }
   ],
   "source": [
    "# create a plot that shows the regression line from the model on the test set.\n",
    "plot_test = plt\n",
    "plot_test.scatter(B_test, a_test, color='green', s = 15)\n",
    "plot_test.plot(B_test, a_predicted, color='red', linewidth =3)\n",
    "plot_test.title('renewables_electricity vs fossil_electricity (test set)')\n",
    "plot_test.xlabel('renewables_electricity')\n",
    "plot_test.ylabel('fossil_electricity')\n",
    "plot_test.show()"
   ]
  },
  {
   "cell_type": "code",
   "execution_count": 97,
   "id": "cb9c95d5",
   "metadata": {},
   "outputs": [
    {
     "name": "stdout",
     "output_type": "stream",
     "text": [
      "Slope: [[2.81882398]]\n",
      "Mean squared error:  45496.72451675282\n",
      "R2 score:  0.7809088805297214\n"
     ]
    }
   ],
   "source": [
    "# create objects that contain the model summary statistics and print the result.\n",
    "rmse2 = mean_squared_error(a_test, a_predicted) \n",
    "r22 = r2_score(a_test, a_predicted) \n",
    "print('Slope:' ,regression2.coef_)\n",
    "print('Mean squared error: ', rmse2)\n",
    "print('R2 score: ', r22)"
   ]
  },
  {
   "cell_type": "code",
   "execution_count": 98,
   "id": "071cca00",
   "metadata": {},
   "outputs": [
    {
     "data": {
      "text/html": [
       "<div>\n",
       "<style scoped>\n",
       "    .dataframe tbody tr th:only-of-type {\n",
       "        vertical-align: middle;\n",
       "    }\n",
       "\n",
       "    .dataframe tbody tr th {\n",
       "        vertical-align: top;\n",
       "    }\n",
       "\n",
       "    .dataframe thead th {\n",
       "        text-align: right;\n",
       "    }\n",
       "</style>\n",
       "<table border=\"1\" class=\"dataframe\">\n",
       "  <thead>\n",
       "    <tr style=\"text-align: right;\">\n",
       "      <th></th>\n",
       "      <th>Actual</th>\n",
       "      <th>Predicted</th>\n",
       "    </tr>\n",
       "  </thead>\n",
       "  <tbody>\n",
       "    <tr>\n",
       "      <th>0</th>\n",
       "      <td>5.44</td>\n",
       "      <td>9.006361</td>\n",
       "    </tr>\n",
       "    <tr>\n",
       "      <th>1</th>\n",
       "      <td>0.07</td>\n",
       "      <td>8.160714</td>\n",
       "    </tr>\n",
       "    <tr>\n",
       "      <th>2</th>\n",
       "      <td>18.80</td>\n",
       "      <td>72.429901</td>\n",
       "    </tr>\n",
       "    <tr>\n",
       "      <th>3</th>\n",
       "      <td>25.06</td>\n",
       "      <td>29.781094</td>\n",
       "    </tr>\n",
       "    <tr>\n",
       "      <th>4</th>\n",
       "      <td>3.43</td>\n",
       "      <td>17.716528</td>\n",
       "    </tr>\n",
       "    <tr>\n",
       "      <th>5</th>\n",
       "      <td>2.76</td>\n",
       "      <td>29.471024</td>\n",
       "    </tr>\n",
       "    <tr>\n",
       "      <th>6</th>\n",
       "      <td>0.03</td>\n",
       "      <td>8.329844</td>\n",
       "    </tr>\n",
       "    <tr>\n",
       "      <th>7</th>\n",
       "      <td>0.91</td>\n",
       "      <td>9.231867</td>\n",
       "    </tr>\n",
       "    <tr>\n",
       "      <th>8</th>\n",
       "      <td>4.01</td>\n",
       "      <td>8.160714</td>\n",
       "    </tr>\n",
       "    <tr>\n",
       "      <th>9</th>\n",
       "      <td>0.02</td>\n",
       "      <td>8.414408</td>\n",
       "    </tr>\n",
       "    <tr>\n",
       "      <th>10</th>\n",
       "      <td>146.12</td>\n",
       "      <td>38.688578</td>\n",
       "    </tr>\n",
       "    <tr>\n",
       "      <th>11</th>\n",
       "      <td>1.60</td>\n",
       "      <td>16.645374</td>\n",
       "    </tr>\n",
       "    <tr>\n",
       "      <th>12</th>\n",
       "      <td>32.05</td>\n",
       "      <td>8.019773</td>\n",
       "    </tr>\n",
       "    <tr>\n",
       "      <th>13</th>\n",
       "      <td>38.51</td>\n",
       "      <td>24.425329</td>\n",
       "    </tr>\n",
       "    <tr>\n",
       "      <th>14</th>\n",
       "      <td>14.79</td>\n",
       "      <td>8.386220</td>\n",
       "    </tr>\n",
       "    <tr>\n",
       "      <th>15</th>\n",
       "      <td>0.19</td>\n",
       "      <td>10.133891</td>\n",
       "    </tr>\n",
       "    <tr>\n",
       "      <th>16</th>\n",
       "      <td>3.96</td>\n",
       "      <td>8.949985</td>\n",
       "    </tr>\n",
       "    <tr>\n",
       "      <th>17</th>\n",
       "      <td>0.30</td>\n",
       "      <td>8.019773</td>\n",
       "    </tr>\n",
       "    <tr>\n",
       "      <th>18</th>\n",
       "      <td>219.88</td>\n",
       "      <td>150.934149</td>\n",
       "    </tr>\n",
       "    <tr>\n",
       "      <th>19</th>\n",
       "      <td>174.17</td>\n",
       "      <td>191.835285</td>\n",
       "    </tr>\n",
       "    <tr>\n",
       "      <th>20</th>\n",
       "      <td>140.85</td>\n",
       "      <td>14.587633</td>\n",
       "    </tr>\n",
       "    <tr>\n",
       "      <th>21</th>\n",
       "      <td>29.61</td>\n",
       "      <td>239.811669</td>\n",
       "    </tr>\n",
       "    <tr>\n",
       "      <th>22</th>\n",
       "      <td>0.10</td>\n",
       "      <td>22.452152</td>\n",
       "    </tr>\n",
       "    <tr>\n",
       "      <th>23</th>\n",
       "      <td>0.35</td>\n",
       "      <td>37.617425</td>\n",
       "    </tr>\n",
       "    <tr>\n",
       "      <th>24</th>\n",
       "      <td>14.66</td>\n",
       "      <td>8.273467</td>\n",
       "    </tr>\n",
       "    <tr>\n",
       "      <th>25</th>\n",
       "      <td>80.07</td>\n",
       "      <td>14.249374</td>\n",
       "    </tr>\n",
       "    <tr>\n",
       "      <th>26</th>\n",
       "      <td>0.32</td>\n",
       "      <td>9.260056</td>\n",
       "    </tr>\n",
       "    <tr>\n",
       "      <th>27</th>\n",
       "      <td>17.59</td>\n",
       "      <td>16.166174</td>\n",
       "    </tr>\n",
       "    <tr>\n",
       "      <th>28</th>\n",
       "      <td>0.00</td>\n",
       "      <td>60.308958</td>\n",
       "    </tr>\n",
       "    <tr>\n",
       "      <th>29</th>\n",
       "      <td>34.21</td>\n",
       "      <td>8.019773</td>\n",
       "    </tr>\n",
       "  </tbody>\n",
       "</table>\n",
       "</div>"
      ],
      "text/plain": [
       "    Actual   Predicted\n",
       "0     5.44    9.006361\n",
       "1     0.07    8.160714\n",
       "2    18.80   72.429901\n",
       "3    25.06   29.781094\n",
       "4     3.43   17.716528\n",
       "5     2.76   29.471024\n",
       "6     0.03    8.329844\n",
       "7     0.91    9.231867\n",
       "8     4.01    8.160714\n",
       "9     0.02    8.414408\n",
       "10  146.12   38.688578\n",
       "11    1.60   16.645374\n",
       "12   32.05    8.019773\n",
       "13   38.51   24.425329\n",
       "14   14.79    8.386220\n",
       "15    0.19   10.133891\n",
       "16    3.96    8.949985\n",
       "17    0.30    8.019773\n",
       "18  219.88  150.934149\n",
       "19  174.17  191.835285\n",
       "20  140.85   14.587633\n",
       "21   29.61  239.811669\n",
       "22    0.10   22.452152\n",
       "23    0.35   37.617425\n",
       "24   14.66    8.273467\n",
       "25   80.07   14.249374\n",
       "26    0.32    9.260056\n",
       "27   17.59   16.166174\n",
       "28    0.00   60.308958\n",
       "29   34.21    8.019773"
      ]
     },
     "execution_count": 98,
     "metadata": {},
     "output_type": "execute_result"
    }
   ],
   "source": [
    "# create a dataframe comparing the actual and predicted values of a.\n",
    "data = pd.DataFrame({'Actual': a_test.flatten(), 'Predicted': a_predicted.flatten()})\n",
    "data.head(30)"
   ]
  },
  {
   "cell_type": "code",
   "execution_count": 99,
   "id": "1d7f7228",
   "metadata": {},
   "outputs": [],
   "source": [
    "# compare how the regression fits the training set \n",
    "a_predicted_train = regression2.predict(B_train) "
   ]
  },
  {
   "cell_type": "code",
   "execution_count": 100,
   "id": "02a5e1d5",
   "metadata": {},
   "outputs": [
    {
     "name": "stdout",
     "output_type": "stream",
     "text": [
      "Slope: [[2.81882398]]\n",
      "Mean squared error:  34778.146327392\n",
      "R2 score:  0.5794610917384952\n"
     ]
    }
   ],
   "source": [
    "rmse2 = mean_squared_error(a_train, a_predicted_train)\n",
    "r22 = r2_score(a_train, a_predicted_train)\n",
    "print('Slope:' ,regression2.coef_)\n",
    "print('Mean squared error: ', rmse2)\n",
    "print('R2 score: ', r22)"
   ]
  },
  {
   "cell_type": "code",
   "execution_count": 101,
   "id": "d8161260",
   "metadata": {},
   "outputs": [
    {
     "data": {
      "image/png": "[encoded data removed]",
      "text/plain": [
       "<Figure size 640x480 with 1 Axes>"
      ]
     },
     "metadata": {},
     "output_type": "display_data"
    }
   ],
   "source": [
    "# visualizing the training set results.\n",
    "plot_test = plt\n",
    "plot_test.scatter(B_train, a_train, color='black', s = 15)\n",
    "plot_test.plot(B_train, a_predicted_train, color='red', linewidth =3)\n",
    "plot_test.title('renewables vs fossil electricity (train set)')\n",
    "plot_test.xlabel('renewables_electricity')\n",
    "plot_test.ylabel('fossil_electricity')\n",
    "plot_test.show()"
   ]
  },
  {
   "cell_type": "markdown",
   "id": "9145969b",
   "metadata": {},
   "source": [
    "#### Comment\n",
    "The model has R2 value of .78, and rmse of 45492. The latter value indicates that the linear model cannot accurately predict the influece of renewables on fossil fuels. This can also be confirmed by comparing the model output with the actual output which show large discrepancy. "
   ]
  },
  {
   "cell_type": "markdown",
   "id": "e412167b",
   "metadata": {},
   "source": [
    "### Remove outlier and check performance"
   ]
  },
  {
   "cell_type": "code",
   "execution_count": 104,
   "id": "c635b42f",
   "metadata": {},
   "outputs": [],
   "source": [
    "df_test = df[df['renewables_electricity'] < 1000]"
   ]
  },
  {
   "cell_type": "code",
   "execution_count": 105,
   "id": "d957440a",
   "metadata": {},
   "outputs": [
    {
     "data": {
      "image/png": "[encoded data removed]",
      "text/plain": [
       "<Figure size 640x480 with 1 Axes>"
      ]
     },
     "metadata": {},
     "output_type": "display_data"
    }
   ],
   "source": [
    "# check the scatterplot without outlier\n",
    "df_test.plot(x = 'renewables_electricity', y='fossil_electricity', style='o')  \n",
    "plt.title('renewables vs fossil electricity')  \n",
    "plt.xlabel('renewables_electricity')  \n",
    "plt.ylabel('fossil_electricity')  \n",
    "plt.show()"
   ]
  },
  {
   "cell_type": "code",
   "execution_count": 106,
   "id": "78b6598d",
   "metadata": {},
   "outputs": [],
   "source": [
    "# Reshape\n",
    "B_2 = df_test['renewables_electricity'].values.reshape(-1,1)\n",
    "a_2 = df_test['fossil_electricity'].values.reshape(-1,1)"
   ]
  },
  {
   "cell_type": "code",
   "execution_count": 107,
   "id": "b666eff0",
   "metadata": {},
   "outputs": [],
   "source": [
    "B_train_2, B_test_2, a_train_2, a_test_2 = train_test_split(B_2, a_2, test_size=0.3, random_state=0)"
   ]
  },
  {
   "cell_type": "code",
   "execution_count": 108,
   "id": "80b9432a",
   "metadata": {},
   "outputs": [
    {
     "data": {
      "text/html": [
       "<style>#sk-container-id-3 {color: black;}#sk-container-id-3 pre{padding: 0;}#sk-container-id-3 div.sk-toggleable {background-color: white;}#sk-container-id-3 label.sk-toggleable__label {cursor: pointer;display: block;width: 100%;margin-bottom: 0;padding: 0.3em;box-sizing: border-box;text-align: center;}#sk-container-id-3 label.sk-toggleable__label-arrow:before {content: \"▸\";float: left;margin-right: 0.25em;color: #696969;}#sk-container-id-3 label.sk-toggleable__label-arrow:hover:before {color: black;}#sk-container-id-3 div.sk-estimator:hover label.sk-toggleable__label-arrow:before {color: black;}#sk-container-id-3 div.sk-toggleable__content {max-height: 0;max-width: 0;overflow: hidden;text-align: left;background-color: #f0f8ff;}#sk-container-id-3 div.sk-toggleable__content pre {margin: 0.2em;color: black;border-radius: 0.25em;background-color: #f0f8ff;}#sk-container-id-3 input.sk-toggleable__control:checked~div.sk-toggleable__content {max-height: 200px;max-width: 100%;overflow: auto;}#sk-container-id-3 input.sk-toggleable__control:checked~label.sk-toggleable__label-arrow:before {content: \"▾\";}#sk-container-id-3 div.sk-estimator input.sk-toggleable__control:checked~label.sk-toggleable__label {background-color: #d4ebff;}#sk-container-id-3 div.sk-label input.sk-toggleable__control:checked~label.sk-toggleable__label {background-color: #d4ebff;}#sk-container-id-3 input.sk-hidden--visually {border: 0;clip: rect(1px 1px 1px 1px);clip: rect(1px, 1px, 1px, 1px);height: 1px;margin: -1px;overflow: hidden;padding: 0;position: absolute;width: 1px;}#sk-container-id-3 div.sk-estimator {font-family: monospace;background-color: #f0f8ff;border: 1px dotted black;border-radius: 0.25em;box-sizing: border-box;margin-bottom: 0.5em;}#sk-container-id-3 div.sk-estimator:hover {background-color: #d4ebff;}#sk-container-id-3 div.sk-parallel-item::after {content: \"\";width: 100%;border-bottom: 1px solid gray;flex-grow: 1;}#sk-container-id-3 div.sk-label:hover label.sk-toggleable__label {background-color: #d4ebff;}#sk-container-id-3 div.sk-serial::before {content: \"\";position: absolute;border-left: 1px solid gray;box-sizing: border-box;top: 0;bottom: 0;left: 50%;z-index: 0;}#sk-container-id-3 div.sk-serial {display: flex;flex-direction: column;align-items: center;background-color: white;padding-right: 0.2em;padding-left: 0.2em;position: relative;}#sk-container-id-3 div.sk-item {position: relative;z-index: 1;}#sk-container-id-3 div.sk-parallel {display: flex;align-items: stretch;justify-content: center;background-color: white;position: relative;}#sk-container-id-3 div.sk-item::before, #sk-container-id-3 div.sk-parallel-item::before {content: \"\";position: absolute;border-left: 1px solid gray;box-sizing: border-box;top: 0;bottom: 0;left: 50%;z-index: -1;}#sk-container-id-3 div.sk-parallel-item {display: flex;flex-direction: column;z-index: 1;position: relative;background-color: white;}#sk-container-id-3 div.sk-parallel-item:first-child::after {align-self: flex-end;width: 50%;}#sk-container-id-3 div.sk-parallel-item:last-child::after {align-self: flex-start;width: 50%;}#sk-container-id-3 div.sk-parallel-item:only-child::after {width: 0;}#sk-container-id-3 div.sk-dashed-wrapped {border: 1px dashed gray;margin: 0 0.4em 0.5em 0.4em;box-sizing: border-box;padding-bottom: 0.4em;background-color: white;}#sk-container-id-3 div.sk-label label {font-family: monospace;font-weight: bold;display: inline-block;line-height: 1.2em;}#sk-container-id-3 div.sk-label-container {text-align: center;}#sk-container-id-3 div.sk-container {/* jupyter's `normalize.less` sets `[hidden] { display: none; }` but bootstrap.min.css set `[hidden] { display: none !important; }` so we also need the `!important` here to be able to override the default hidden behavior on the sphinx rendered scikit-learn.org. See: https://github.com/scikit-learn/scikit-learn/issues/21755 */display: inline-block !important;position: relative;}#sk-container-id-3 div.sk-text-repr-fallback {display: none;}</style><div id=\"sk-container-id-3\" class=\"sk-top-container\"><div class=\"sk-text-repr-fallback\"><pre>LinearRegression()</pre><b>In a Jupyter environment, please rerun this cell to show the HTML representation or trust the notebook. <br />On GitHub, the HTML representation is unable to render, please try loading this page with nbviewer.org.</b></div><div class=\"sk-container\" hidden><div class=\"sk-item\"><div class=\"sk-estimator sk-toggleable\"><input class=\"sk-toggleable__control sk-hidden--visually\" id=\"sk-estimator-id-3\" type=\"checkbox\" checked><label for=\"sk-estimator-id-3\" class=\"sk-toggleable__label sk-toggleable__label-arrow\">LinearRegression</label><div class=\"sk-toggleable__content\"><pre>LinearRegression()</pre></div></div></div></div></div>"
      ],
      "text/plain": [
       "LinearRegression()"
      ]
     },
     "execution_count": 108,
     "metadata": {},
     "output_type": "execute_result"
    }
   ],
   "source": [
    "# Run and fit the regression.\n",
    "regression = LinearRegression()  \n",
    "regression.fit(B_train_2, a_train_2)"
   ]
  },
  {
   "cell_type": "code",
   "execution_count": 109,
   "id": "b0cb004e",
   "metadata": {},
   "outputs": [],
   "source": [
    "# Predict\n",
    "a_predicted_2 = regression.predict(B_test_2)"
   ]
  },
  {
   "cell_type": "code",
   "execution_count": 110,
   "id": "d68d0bc7",
   "metadata": {},
   "outputs": [],
   "source": [
    "rmse = mean_squared_error(a_test_2, a_predicted_2)\n",
    "r2 = r2_score(a_test_2, a_predicted_2)"
   ]
  },
  {
   "cell_type": "code",
   "execution_count": 111,
   "id": "7ad35266",
   "metadata": {},
   "outputs": [
    {
     "name": "stdout",
     "output_type": "stream",
     "text": [
      "Slope: [[2.63037139]]\n",
      "Mean squared error:  53017.468087163164\n",
      "R2 score:  0.6002282805201407\n"
     ]
    }
   ],
   "source": [
    "print('Slope:' ,regression.coef_)\n",
    "print('Mean squared error: ', rmse)\n",
    "print('R2 score: ', r2)"
   ]
  },
  {
   "cell_type": "code",
   "execution_count": 112,
   "id": "94a9be3b",
   "metadata": {},
   "outputs": [
    {
     "data": {
      "image/png": "[encoded data removed]",
      "text/plain": [
       "<Figure size 640x480 with 1 Axes>"
      ]
     },
     "metadata": {},
     "output_type": "display_data"
    }
   ],
   "source": [
    "# Visualizing the test set results.\n",
    "plot_test = plt\n",
    "plot_test.scatter(B_test_2, a_test_2, color='black', s = 15)\n",
    "plot_test.plot(B_test_2, a_predicted_2, color='red', linewidth =3)\n",
    "plot_test.title('renewables_electricity vs fossil_electricity (Test set)')\n",
    "plot_test.xlabel('renewables_electricity')\n",
    "plot_test.ylabel('fossil_electricity')\n",
    "plot_test.show()"
   ]
  },
  {
   "cell_type": "code",
   "execution_count": 113,
   "id": "fbddfc66",
   "metadata": {},
   "outputs": [
    {
     "data": {
      "text/html": [
       "<div>\n",
       "<style scoped>\n",
       "    .dataframe tbody tr th:only-of-type {\n",
       "        vertical-align: middle;\n",
       "    }\n",
       "\n",
       "    .dataframe tbody tr th {\n",
       "        vertical-align: top;\n",
       "    }\n",
       "\n",
       "    .dataframe thead th {\n",
       "        text-align: right;\n",
       "    }\n",
       "</style>\n",
       "<table border=\"1\" class=\"dataframe\">\n",
       "  <thead>\n",
       "    <tr style=\"text-align: right;\">\n",
       "      <th></th>\n",
       "      <th>Actual</th>\n",
       "      <th>Predicted</th>\n",
       "    </tr>\n",
       "  </thead>\n",
       "  <tbody>\n",
       "    <tr>\n",
       "      <th>0</th>\n",
       "      <td>182.43</td>\n",
       "      <td>225.782101</td>\n",
       "    </tr>\n",
       "    <tr>\n",
       "      <th>1</th>\n",
       "      <td>141.72</td>\n",
       "      <td>31.160922</td>\n",
       "    </tr>\n",
       "    <tr>\n",
       "      <th>2</th>\n",
       "      <td>0.01</td>\n",
       "      <td>14.852619</td>\n",
       "    </tr>\n",
       "    <tr>\n",
       "      <th>3</th>\n",
       "      <td>19.52</td>\n",
       "      <td>9.960129</td>\n",
       "    </tr>\n",
       "    <tr>\n",
       "      <th>4</th>\n",
       "      <td>572.11</td>\n",
       "      <td>473.247442</td>\n",
       "    </tr>\n",
       "    <tr>\n",
       "      <th>5</th>\n",
       "      <td>0.10</td>\n",
       "      <td>22.059837</td>\n",
       "    </tr>\n",
       "    <tr>\n",
       "      <th>6</th>\n",
       "      <td>2.25</td>\n",
       "      <td>19.087517</td>\n",
       "    </tr>\n",
       "    <tr>\n",
       "      <th>7</th>\n",
       "      <td>12.79</td>\n",
       "      <td>9.065802</td>\n",
       "    </tr>\n",
       "    <tr>\n",
       "      <th>8</th>\n",
       "      <td>150.78</td>\n",
       "      <td>978.831127</td>\n",
       "    </tr>\n",
       "    <tr>\n",
       "      <th>9</th>\n",
       "      <td>142.40</td>\n",
       "      <td>31.450263</td>\n",
       "    </tr>\n",
       "    <tr>\n",
       "      <th>10</th>\n",
       "      <td>50.62</td>\n",
       "      <td>35.237998</td>\n",
       "    </tr>\n",
       "    <tr>\n",
       "      <th>11</th>\n",
       "      <td>0.12</td>\n",
       "      <td>8.618639</td>\n",
       "    </tr>\n",
       "    <tr>\n",
       "      <th>12</th>\n",
       "      <td>0.19</td>\n",
       "      <td>10.565114</td>\n",
       "    </tr>\n",
       "    <tr>\n",
       "      <th>13</th>\n",
       "      <td>15.83</td>\n",
       "      <td>24.926942</td>\n",
       "    </tr>\n",
       "    <tr>\n",
       "      <th>14</th>\n",
       "      <td>26.23</td>\n",
       "      <td>9.723395</td>\n",
       "    </tr>\n",
       "    <tr>\n",
       "      <th>15</th>\n",
       "      <td>10.28</td>\n",
       "      <td>8.592335</td>\n",
       "    </tr>\n",
       "    <tr>\n",
       "      <th>16</th>\n",
       "      <td>37.93</td>\n",
       "      <td>30.292899</td>\n",
       "    </tr>\n",
       "    <tr>\n",
       "      <th>17</th>\n",
       "      <td>182.76</td>\n",
       "      <td>123.355439</td>\n",
       "    </tr>\n",
       "    <tr>\n",
       "      <th>18</th>\n",
       "      <td>16.06</td>\n",
       "      <td>8.592335</td>\n",
       "    </tr>\n",
       "    <tr>\n",
       "      <th>19</th>\n",
       "      <td>0.06</td>\n",
       "      <td>8.618639</td>\n",
       "    </tr>\n",
       "    <tr>\n",
       "      <th>20</th>\n",
       "      <td>0.89</td>\n",
       "      <td>10.907062</td>\n",
       "    </tr>\n",
       "    <tr>\n",
       "      <th>21</th>\n",
       "      <td>0.06</td>\n",
       "      <td>8.697550</td>\n",
       "    </tr>\n",
       "    <tr>\n",
       "      <th>22</th>\n",
       "      <td>2.06</td>\n",
       "      <td>17.035828</td>\n",
       "    </tr>\n",
       "    <tr>\n",
       "      <th>23</th>\n",
       "      <td>0.28</td>\n",
       "      <td>8.592335</td>\n",
       "    </tr>\n",
       "    <tr>\n",
       "      <th>24</th>\n",
       "      <td>26.19</td>\n",
       "      <td>46.075128</td>\n",
       "    </tr>\n",
       "    <tr>\n",
       "      <th>25</th>\n",
       "      <td>2.45</td>\n",
       "      <td>13.984597</td>\n",
       "    </tr>\n",
       "    <tr>\n",
       "      <th>26</th>\n",
       "      <td>7.32</td>\n",
       "      <td>19.008606</td>\n",
       "    </tr>\n",
       "    <tr>\n",
       "      <th>27</th>\n",
       "      <td>2.58</td>\n",
       "      <td>20.008147</td>\n",
       "    </tr>\n",
       "    <tr>\n",
       "      <th>28</th>\n",
       "      <td>44.11</td>\n",
       "      <td>28.399032</td>\n",
       "    </tr>\n",
       "    <tr>\n",
       "      <th>29</th>\n",
       "      <td>0.80</td>\n",
       "      <td>9.118410</td>\n",
       "    </tr>\n",
       "  </tbody>\n",
       "</table>\n",
       "</div>"
      ],
      "text/plain": [
       "    Actual   Predicted\n",
       "0   182.43  225.782101\n",
       "1   141.72   31.160922\n",
       "2     0.01   14.852619\n",
       "3    19.52    9.960129\n",
       "4   572.11  473.247442\n",
       "5     0.10   22.059837\n",
       "6     2.25   19.087517\n",
       "7    12.79    9.065802\n",
       "8   150.78  978.831127\n",
       "9   142.40   31.450263\n",
       "10   50.62   35.237998\n",
       "11    0.12    8.618639\n",
       "12    0.19   10.565114\n",
       "13   15.83   24.926942\n",
       "14   26.23    9.723395\n",
       "15   10.28    8.592335\n",
       "16   37.93   30.292899\n",
       "17  182.76  123.355439\n",
       "18   16.06    8.592335\n",
       "19    0.06    8.618639\n",
       "20    0.89   10.907062\n",
       "21    0.06    8.697550\n",
       "22    2.06   17.035828\n",
       "23    0.28    8.592335\n",
       "24   26.19   46.075128\n",
       "25    2.45   13.984597\n",
       "26    7.32   19.008606\n",
       "27    2.58   20.008147\n",
       "28   44.11   28.399032\n",
       "29    0.80    9.118410"
      ]
     },
     "execution_count": 113,
     "metadata": {},
     "output_type": "execute_result"
    }
   ],
   "source": [
    "data = pd.DataFrame({'Actual': a_test_2.flatten(), 'Predicted': a_predicted_2.flatten()})\n",
    "data.head(30)"
   ]
  },
  {
   "cell_type": "markdown",
   "id": "9c3f8fed",
   "metadata": {},
   "source": [
    "#### Comment\n",
    "After removing the outlier, the model is still not a good predictor of the influence of renewables on fossil fuels.\n"
   ]
  },
  {
   "cell_type": "markdown",
   "id": "6169c775",
   "metadata": {},
   "source": [
    "#### Final Thoughts\n",
    "The data is sourced from trustworthy sources. The inability of the linear models in predicting the dependent variables (greenhouse_gas_emissions and fossil_electricity), based on the independent variables indicated that the model chosen is not the right choice and therefore the models cannot accurately predict the results. "
   ]
  },
  {
   "cell_type": "code",
   "execution_count": 115,
   "id": "bdcc3249",
   "metadata": {},
   "outputs": [],
   "source": [
    "# Export the dataframe\n",
    "df.to_csv(os.path.join(path, '02 Data', 'Prepared Data', 'T4.csv'))"
   ]
  },
  {
   "cell_type": "code",
   "execution_count": null,
   "id": "4d3b7496",
   "metadata": {},
   "outputs": [],
   "source": []
  }
 ],
 "metadata": {
  "kernelspec": {
   "display_name": "Python 3 (ipykernel)",
   "language": "python",
   "name": "python3"
  },
  "language_info": {
   "codemirror_mode": {
    "name": "ipython",
    "version": 3
   },
   "file_extension": ".py",
   "mimetype": "text/x-python",
   "name": "python",
   "nbconvert_exporter": "python",
   "pygments_lexer": "ipython3",
   "version": "3.11.5"
  }
 },
 "nbformat": 4,
 "nbformat_minor": 5
}
